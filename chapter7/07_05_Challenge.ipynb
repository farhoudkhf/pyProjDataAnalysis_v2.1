{
 "cells": [
  {
   "cell_type": "markdown",
   "metadata": {},
   "source": [
    "# 07_05: Challenge\n",
    "\n",
    "find top ten unisex names\n",
    "\n",
    "Unisex = 0.5 < (total number of boys) / (total number of girls) < 2"
   ]
  },
  {
   "cell_type": "code",
   "execution_count": 1,
   "metadata": {},
   "outputs": [],
   "source": [
    "import math\n",
    "import collections\n",
    "\n",
    "import numpy as np\n",
    "import pandas as pd\n",
    "import matplotlib.pyplot as pp\n",
    "\n",
    "%matplotlib inline"
   ]
  },
  {
   "cell_type": "code",
   "execution_count": 67,
   "metadata": {},
   "outputs": [],
   "source": [
    "pd.options.display.max_rows = 10"
   ]
  },
  {
   "cell_type": "code",
   "execution_count": 68,
   "metadata": {},
   "outputs": [],
   "source": [
    "allyears = pd.read_csv('allyears.csv.gz')"
   ]
  },
  {
   "cell_type": "code",
   "execution_count": 69,
   "metadata": {},
   "outputs": [],
   "source": [
    "# total number across all years, grouped by sex and name\n",
    "totals = allyears.groupby(['sex','name']).number.sum()"
   ]
  },
  {
   "cell_type": "code",
   "execution_count": 70,
   "metadata": {},
   "outputs": [
    {
     "data": {
      "text/plain": [
       "sex  name     \n",
       "F    Aabha        35\n",
       "     Aabidah       5\n",
       "     Aabriella    38\n",
       "     Aada         13\n",
       "     Aadaya        8\n",
       "                  ..\n",
       "M    Zyus         11\n",
       "     Zyvion        5\n",
       "     Zyvon         7\n",
       "     Zyyon         6\n",
       "     Zzyzx        10\n",
       "Name: number, Length: 109173, dtype: int64"
      ]
     },
     "execution_count": 70,
     "metadata": {},
     "output_type": "execute_result"
    }
   ],
   "source": [
    "totals"
   ]
  },
  {
   "cell_type": "code",
   "execution_count": 71,
   "metadata": {},
   "outputs": [],
   "source": [
    "female = totals.loc[('F')]"
   ]
  },
  {
   "cell_type": "code",
   "execution_count": 72,
   "metadata": {},
   "outputs": [],
   "source": [
    "male = totals.loc[('M')]"
   ]
  },
  {
   "cell_type": "code",
   "execution_count": 32,
   "metadata": {},
   "outputs": [
    {
     "data": {
      "text/plain": [
       "name\n",
       "Aabha        35\n",
       "Aabidah       5\n",
       "Aabriella    38\n",
       "Aada         13\n",
       "Aadaya        8\n",
       "             ..\n",
       "Zyrielle     27\n",
       "Zyrihanna    45\n",
       "Zyriyah      16\n",
       "Zyva         23\n",
       "Zyyanna       6\n",
       "Name: number, Length: 67698, dtype: int64"
      ]
     },
     "execution_count": 32,
     "metadata": {},
     "output_type": "execute_result"
    }
   ],
   "source": [
    "female"
   ]
  },
  {
   "cell_type": "code",
   "execution_count": null,
   "metadata": {},
   "outputs": [
    {
     "data": {
      "text/plain": [
       "name\n",
       "Aaban     114\n",
       "Aabid      16\n",
       "Aabir      10\n",
       "Aadam     273\n",
       "Aadan     130\n",
       "         ... \n",
       "Zyus       11\n",
       "Zyvion      5\n",
       "Zyvon       7\n",
       "Zyyon       6\n",
       "Zzyzx      10\n",
       "Name: number, Length: 41475, dtype: int64"
      ]
     },
     "execution_count": 33,
     "metadata": {},
     "output_type": "execute_result"
    }
   ],
   "source": [
    "male"
   ]
  },
  {
   "cell_type": "code",
   "execution_count": 35,
   "metadata": {},
   "outputs": [
    {
     "data": {
      "text/plain": [
       "name\n",
       "Aaban     NaN\n",
       "Aabha     NaN\n",
       "Aabid     NaN\n",
       "Aabidah   NaN\n",
       "Aabir     NaN\n",
       "           ..\n",
       "Zyvion    NaN\n",
       "Zyvon     NaN\n",
       "Zyyanna   NaN\n",
       "Zyyon     NaN\n",
       "Zzyzx     NaN\n",
       "Name: number, Length: 98400, dtype: float64"
      ]
     },
     "execution_count": 35,
     "metadata": {},
     "output_type": "execute_result"
    }
   ],
   "source": [
    "totals.loc['M'] / totals.loc['F']"
   ]
  },
  {
   "cell_type": "code",
   "execution_count": 36,
   "metadata": {},
   "outputs": [],
   "source": [
    "ratio = (totals.loc['M'] / totals.loc['F']).dropna()"
   ]
  },
  {
   "cell_type": "code",
   "execution_count": 37,
   "metadata": {},
   "outputs": [
    {
     "data": {
      "text/plain": [
       "name\n",
       "Aaden      965.600000\n",
       "Aadi        53.187500\n",
       "Aadyn       32.250000\n",
       "Aalijah      1.422819\n",
       "Aaliyah      0.001098\n",
       "              ...    \n",
       "Zyion        5.464286\n",
       "Zyon         4.254839\n",
       "Zyonn        8.000000\n",
       "Zyree        5.875000\n",
       "Zyrie        0.842105\n",
       "Name: number, Length: 10773, dtype: float64"
      ]
     },
     "execution_count": 37,
     "metadata": {},
     "output_type": "execute_result"
    }
   ],
   "source": [
    "ratio"
   ]
  },
  {
   "cell_type": "code",
   "execution_count": 81,
   "metadata": {},
   "outputs": [
    {
     "data": {
      "text/plain": [
       "name\n",
       "Aalijah    1.422819\n",
       "Aamari     1.430233\n",
       "Aari       1.111111\n",
       "Aarin      1.950331\n",
       "Aaris      1.000000\n",
       "             ...   \n",
       "Ziyan      1.251748\n",
       "Zoel       1.928571\n",
       "Zohar      0.520270\n",
       "Zyian      0.714286\n",
       "Zyrie      0.842105\n",
       "Name: number, Length: 1660, dtype: float64"
      ]
     },
     "execution_count": 81,
     "metadata": {},
     "output_type": "execute_result"
    }
   ],
   "source": [
    "# ratio_greaterThan_half = ratio[ratio > 0.5]\n",
    "# ratio_greaterThan_half\n",
    "\n",
    "# ratio_greaterThan_half.sort_values(ascending=False)\n",
    "\n",
    "# ratio_lessThan_two = ratio[ratio < 2]\n",
    "# ratio_lessThan_two.sort_values(ascending=False)\n",
    "# ratio_lessThan_two\n",
    "\n",
    "ratio[(ratio > 0.5) & (ratio < 2)]\n"
   ]
  },
  {
   "cell_type": "code",
   "execution_count": 83,
   "metadata": {},
   "outputs": [],
   "source": [
    "unisexNames = ratio[(ratio > 0.5) & (ratio < 2)].index"
   ]
  },
  {
   "cell_type": "code",
   "execution_count": 97,
   "metadata": {},
   "outputs": [
    {
     "data": {
      "text/plain": [
       "Index(['Aalijah', 'Aamari', 'Aari', 'Aarin', 'Aaris', 'Aaryn', 'Aavyn', 'Abey',\n",
       "       'Abrar', 'Abriel',\n",
       "       ...\n",
       "       'Zell', 'Zi', 'Ziel', 'Zihan', 'Zixuan', 'Ziyan', 'Zoel', 'Zohar',\n",
       "       'Zyian', 'Zyrie'],\n",
       "      dtype='object', name='name', length=1660)"
      ]
     },
     "execution_count": 97,
     "metadata": {},
     "output_type": "execute_result"
    }
   ],
   "source": [
    "unisexNames"
   ]
  },
  {
   "cell_type": "code",
   "execution_count": 87,
   "metadata": {},
   "outputs": [
    {
     "data": {
      "text/plain": [
       "name\n",
       "Aalijah    212\n",
       "Aamari     123\n",
       "Aari        10\n",
       "Aarin      589\n",
       "Aaris       47\n",
       "          ... \n",
       "Ziyan      179\n",
       "Zoel        54\n",
       "Zohar       77\n",
       "Zyian       35\n",
       "Zyrie       16\n",
       "Name: number, Length: 1660, dtype: int64"
      ]
     },
     "execution_count": 87,
     "metadata": {},
     "output_type": "execute_result"
    }
   ],
   "source": [
    "# male.loc[unisexNames].sort_values(ascending=False)\n",
    "male.loc[unisexNames]"
   ]
  },
  {
   "cell_type": "code",
   "execution_count": 90,
   "metadata": {},
   "outputs": [
    {
     "data": {
      "text/plain": [
       "name\n",
       "Jessie      167462\n",
       "Riley       106901\n",
       "Jackie       90705\n",
       "Casey        76312\n",
       "Peyton       72180\n",
       "             ...  \n",
       "Salud            5\n",
       "Schell           5\n",
       "Selester         5\n",
       "Semajae          5\n",
       "Rocki            5\n",
       "Name: number, Length: 1660, dtype: int64"
      ]
     },
     "execution_count": 90,
     "metadata": {},
     "output_type": "execute_result"
    }
   ],
   "source": [
    "female.loc[unisexNames].sort_values(ascending=False)\n",
    "# female.loc[unisexNames]"
   ]
  },
  {
   "cell_type": "code",
   "execution_count": 92,
   "metadata": {},
   "outputs": [],
   "source": [
    "commonNames = (female.loc[unisexNames] + male.loc[unisexNames]).sort_values(ascending=False)"
   ]
  },
  {
   "cell_type": "code",
   "execution_count": 93,
   "metadata": {},
   "outputs": [
    {
     "data": {
      "text/plain": [
       "name\n",
       "Jessie     277674\n",
       "Riley      201179\n",
       "Casey      186947\n",
       "Jackie     169199\n",
       "Peyton     120657\n",
       "            ...  \n",
       "Khymani        10\n",
       "Raydean        10\n",
       "Camlin         10\n",
       "Chamel         10\n",
       "Cappy          10\n",
       "Name: number, Length: 1660, dtype: int64"
      ]
     },
     "execution_count": 93,
     "metadata": {},
     "output_type": "execute_result"
    }
   ],
   "source": [
    "commonNames"
   ]
  },
  {
   "cell_type": "code",
   "execution_count": 94,
   "metadata": {},
   "outputs": [],
   "source": [
    "allyears_indexed = allyears.set_index(['sex','name','year']).sort_index()"
   ]
  },
  {
   "cell_type": "code",
   "execution_count": 96,
   "metadata": {},
   "outputs": [
    {
     "ename": "ValueError",
     "evalue": "num must be an integer with 1 <= num <= 10, not 11",
     "output_type": "error",
     "traceback": [
      "\u001b[31m---------------------------------------------------------------------------\u001b[39m",
      "\u001b[31mValueError\u001b[39m                                Traceback (most recent call last)",
      "\u001b[36mCell\u001b[39m\u001b[36m \u001b[39m\u001b[32mIn[96]\u001b[39m\u001b[32m, line 5\u001b[39m\n\u001b[32m      3\u001b[39m \u001b[38;5;66;03m# loop over top-ten unisex names\u001b[39;00m\n\u001b[32m      4\u001b[39m \u001b[38;5;28;01mfor\u001b[39;00m i, name \u001b[38;5;129;01min\u001b[39;00m \u001b[38;5;28menumerate\u001b[39m(commonNames.index):\n\u001b[32m----> \u001b[39m\u001b[32m5\u001b[39m     \u001b[43mpp\u001b[49m\u001b[43m.\u001b[49m\u001b[43msubplot\u001b[49m\u001b[43m(\u001b[49m\u001b[32;43m5\u001b[39;49m\u001b[43m,\u001b[49m\u001b[32;43m2\u001b[39;49m\u001b[43m,\u001b[49m\u001b[43mi\u001b[49m\u001b[43m+\u001b[49m\u001b[32;43m1\u001b[39;49m\u001b[43m)\u001b[49m\n\u001b[32m      7\u001b[39m     pp.plot(allyears_indexed.loc[\u001b[33m'\u001b[39m\u001b[33mM\u001b[39m\u001b[33m'\u001b[39m,name], label=\u001b[33m'\u001b[39m\u001b[33mM\u001b[39m\u001b[33m'\u001b[39m)\n\u001b[32m      8\u001b[39m     pp.plot(allyears_indexed.loc[\u001b[33m'\u001b[39m\u001b[33mF\u001b[39m\u001b[33m'\u001b[39m,name], label=\u001b[33m'\u001b[39m\u001b[33mF\u001b[39m\u001b[33m'\u001b[39m)\n",
      "\u001b[36mFile \u001b[39m\u001b[32m~/Library/CloudStorage/OneDrive-Personal/Self Study/LinkedIn Learn Exercise/Python/pyProjDataAnalysis_v2.1/.venv/lib/python3.13/site-packages/matplotlib/pyplot.py:1552\u001b[39m, in \u001b[36msubplot\u001b[39m\u001b[34m(*args, **kwargs)\u001b[39m\n\u001b[32m   1549\u001b[39m fig = gcf()\n\u001b[32m   1551\u001b[39m \u001b[38;5;66;03m# First, search for an existing subplot with a matching spec.\u001b[39;00m\n\u001b[32m-> \u001b[39m\u001b[32m1552\u001b[39m key = \u001b[43mSubplotSpec\u001b[49m\u001b[43m.\u001b[49m\u001b[43m_from_subplot_args\u001b[49m\u001b[43m(\u001b[49m\u001b[43mfig\u001b[49m\u001b[43m,\u001b[49m\u001b[43m \u001b[49m\u001b[43margs\u001b[49m\u001b[43m)\u001b[49m\n\u001b[32m   1554\u001b[39m \u001b[38;5;28;01mfor\u001b[39;00m ax \u001b[38;5;129;01min\u001b[39;00m fig.axes:\n\u001b[32m   1555\u001b[39m     \u001b[38;5;66;03m# If we found an Axes at the position, we can reuse it if the user passed no\u001b[39;00m\n\u001b[32m   1556\u001b[39m     \u001b[38;5;66;03m# kwargs or if the Axes class and kwargs are identical.\u001b[39;00m\n\u001b[32m   1557\u001b[39m     \u001b[38;5;28;01mif\u001b[39;00m (ax.get_subplotspec() == key\n\u001b[32m   1558\u001b[39m         \u001b[38;5;129;01mand\u001b[39;00m (kwargs == {}\n\u001b[32m   1559\u001b[39m              \u001b[38;5;129;01mor\u001b[39;00m (ax._projection_init\n\u001b[32m   1560\u001b[39m                  == fig._process_projection_requirements(**kwargs)))):\n",
      "\u001b[36mFile \u001b[39m\u001b[32m~/Library/CloudStorage/OneDrive-Personal/Self Study/LinkedIn Learn Exercise/Python/pyProjDataAnalysis_v2.1/.venv/lib/python3.13/site-packages/matplotlib/gridspec.py:589\u001b[39m, in \u001b[36mSubplotSpec._from_subplot_args\u001b[39m\u001b[34m(figure, args)\u001b[39m\n\u001b[32m    587\u001b[39m \u001b[38;5;28;01melse\u001b[39;00m:\n\u001b[32m    588\u001b[39m     \u001b[38;5;28;01mif\u001b[39;00m \u001b[38;5;129;01mnot\u001b[39;00m \u001b[38;5;28misinstance\u001b[39m(num, Integral) \u001b[38;5;129;01mor\u001b[39;00m num < \u001b[32m1\u001b[39m \u001b[38;5;129;01mor\u001b[39;00m num > rows*cols:\n\u001b[32m--> \u001b[39m\u001b[32m589\u001b[39m         \u001b[38;5;28;01mraise\u001b[39;00m \u001b[38;5;167;01mValueError\u001b[39;00m(\n\u001b[32m    590\u001b[39m             \u001b[33mf\u001b[39m\u001b[33m\"\u001b[39m\u001b[33mnum must be an integer with 1 <= num <= \u001b[39m\u001b[38;5;132;01m{\u001b[39;00mrows*cols\u001b[38;5;132;01m}\u001b[39;00m\u001b[33m, \u001b[39m\u001b[33m\"\u001b[39m\n\u001b[32m    591\u001b[39m             \u001b[33mf\u001b[39m\u001b[33m\"\u001b[39m\u001b[33mnot \u001b[39m\u001b[38;5;132;01m{\u001b[39;00mnum\u001b[38;5;132;01m!r}\u001b[39;00m\u001b[33m\"\u001b[39m\n\u001b[32m    592\u001b[39m         )\n\u001b[32m    593\u001b[39m     i = j = num\n\u001b[32m    594\u001b[39m \u001b[38;5;28;01mreturn\u001b[39;00m gs[i-\u001b[32m1\u001b[39m:j]\n",
      "\u001b[31mValueError\u001b[39m: num must be an integer with 1 <= num <= 10, not 11"
     ]
    },
    {
     "data": {
      "image/png": "[encoded data removed]",
      "text/plain": [
       "<Figure size 900x900 with 10 Axes>"
      ]
     },
     "metadata": {},
     "output_type": "display_data"
    }
   ],
   "source": [
    "pp.figure(figsize=(9,9))\n",
    "\n",
    "# loop over top-ten unisex names\n",
    "for i, name in enumerate(commonNames.index):\n",
    "    pp.subplot(5,2,i+1)\n",
    "\n",
    "    pp.plot(allyears_indexed.loc['M',name], label='M')\n",
    "    pp.plot(allyears_indexed.loc['F',name], label='F')\n",
    "    \n",
    "    pp.legend()\n",
    "    pp.title(name)\n",
    "\n",
    "# improve subplot spacing\n",
    "pp.tight_layout()"
   ]
  },
  {
   "cell_type": "code",
   "execution_count": null,
   "metadata": {},
   "outputs": [],
   "source": []
  },
  {
   "cell_type": "code",
   "execution_count": null,
   "metadata": {},
   "outputs": [],
   "source": []
  },
  {
   "cell_type": "code",
   "execution_count": null,
   "metadata": {},
   "outputs": [],
   "source": []
  },
  {
   "cell_type": "code",
   "execution_count": null,
   "metadata": {},
   "outputs": [],
   "source": [
    "# do not use this cell\n",
    "allyears_indexed = allyears.set_index(['sex','name','year']).sort_index()\n",
    "# allyears_indexed.loc['Aadi']\n",
    "# df = pd.DataFrame(data)\n",
    "# filtered_df = df.loc[(df['col1'] > 3) | (df['col2'] < 7)]\n",
    "df = pd.DataFrame(allyears_indexed)\n"
   ]
  },
  {
   "cell_type": "code",
   "execution_count": null,
   "metadata": {},
   "outputs": [],
   "source": []
  },
  {
   "cell_type": "code",
   "execution_count": null,
   "metadata": {},
   "outputs": [],
   "source": []
  },
  {
   "cell_type": "code",
   "execution_count": 5,
   "metadata": {},
   "outputs": [],
   "source": [
    "allyears_byyear = allyears.set_index(['sex','year']).sort_index()"
   ]
  },
  {
   "cell_type": "code",
   "execution_count": 5,
   "metadata": {},
   "outputs": [
    {
     "data": {
      "text/html": [
       "<div>\n",
       "<style scoped>\n",
       "    .dataframe tbody tr th:only-of-type {\n",
       "        vertical-align: middle;\n",
       "    }\n",
       "\n",
       "    .dataframe tbody tr th {\n",
       "        vertical-align: top;\n",
       "    }\n",
       "\n",
       "    .dataframe thead th {\n",
       "        text-align: right;\n",
       "    }\n",
       "</style>\n",
       "<table border=\"1\" class=\"dataframe\">\n",
       "  <thead>\n",
       "    <tr style=\"text-align: right;\">\n",
       "      <th></th>\n",
       "      <th></th>\n",
       "      <th>name</th>\n",
       "      <th>number</th>\n",
       "    </tr>\n",
       "    <tr>\n",
       "      <th>sex</th>\n",
       "      <th>year</th>\n",
       "      <th></th>\n",
       "      <th></th>\n",
       "    </tr>\n",
       "  </thead>\n",
       "  <tbody>\n",
       "    <tr>\n",
       "      <th rowspan=\"11\" valign=\"top\">M</th>\n",
       "      <th>2018</th>\n",
       "      <td>Liam</td>\n",
       "      <td>19837</td>\n",
       "    </tr>\n",
       "    <tr>\n",
       "      <th>2018</th>\n",
       "      <td>Noah</td>\n",
       "      <td>18267</td>\n",
       "    </tr>\n",
       "    <tr>\n",
       "      <th>2018</th>\n",
       "      <td>William</td>\n",
       "      <td>14516</td>\n",
       "    </tr>\n",
       "    <tr>\n",
       "      <th>2018</th>\n",
       "      <td>James</td>\n",
       "      <td>13525</td>\n",
       "    </tr>\n",
       "    <tr>\n",
       "      <th>2018</th>\n",
       "      <td>Oliver</td>\n",
       "      <td>13389</td>\n",
       "    </tr>\n",
       "    <tr>\n",
       "      <th>...</th>\n",
       "      <td>...</td>\n",
       "      <td>...</td>\n",
       "    </tr>\n",
       "    <tr>\n",
       "      <th>2018</th>\n",
       "      <td>Gaylon</td>\n",
       "      <td>5</td>\n",
       "    </tr>\n",
       "    <tr>\n",
       "      <th>2018</th>\n",
       "      <td>Gavynn</td>\n",
       "      <td>5</td>\n",
       "    </tr>\n",
       "    <tr>\n",
       "      <th>2018</th>\n",
       "      <td>Gavon</td>\n",
       "      <td>5</td>\n",
       "    </tr>\n",
       "    <tr>\n",
       "      <th>2018</th>\n",
       "      <td>Gaurav</td>\n",
       "      <td>5</td>\n",
       "    </tr>\n",
       "    <tr>\n",
       "      <th>2018</th>\n",
       "      <td>Zzyzx</td>\n",
       "      <td>5</td>\n",
       "    </tr>\n",
       "  </tbody>\n",
       "</table>\n",
       "<p>14004 rows × 2 columns</p>\n",
       "</div>"
      ],
      "text/plain": [
       "             name  number\n",
       "sex year                 \n",
       "M   2018     Liam   19837\n",
       "    2018     Noah   18267\n",
       "    2018  William   14516\n",
       "    2018    James   13525\n",
       "    2018   Oliver   13389\n",
       "...           ...     ...\n",
       "    2018   Gaylon       5\n",
       "    2018   Gavynn       5\n",
       "    2018    Gavon       5\n",
       "    2018   Gaurav       5\n",
       "    2018    Zzyzx       5\n",
       "\n",
       "[14004 rows x 2 columns]"
      ]
     },
     "execution_count": 5,
     "metadata": {},
     "output_type": "execute_result"
    }
   ],
   "source": [
    "allyears_byyear.loc['M',2018].sort_values('number', ascending=False)"
   ]
  },
  {
   "cell_type": "code",
   "execution_count": 6,
   "metadata": {},
   "outputs": [
    {
     "data": {
      "text/html": [
       "<div>\n",
       "<style scoped>\n",
       "    .dataframe tbody tr th:only-of-type {\n",
       "        vertical-align: middle;\n",
       "    }\n",
       "\n",
       "    .dataframe tbody tr th {\n",
       "        vertical-align: top;\n",
       "    }\n",
       "\n",
       "    .dataframe thead th {\n",
       "        text-align: right;\n",
       "    }\n",
       "</style>\n",
       "<table border=\"1\" class=\"dataframe\">\n",
       "  <thead>\n",
       "    <tr style=\"text-align: right;\">\n",
       "      <th></th>\n",
       "      <th></th>\n",
       "      <th>name</th>\n",
       "      <th>number</th>\n",
       "    </tr>\n",
       "    <tr>\n",
       "      <th>sex</th>\n",
       "      <th>year</th>\n",
       "      <th></th>\n",
       "      <th></th>\n",
       "    </tr>\n",
       "  </thead>\n",
       "  <tbody>\n",
       "    <tr>\n",
       "      <th rowspan=\"10\" valign=\"top\">M</th>\n",
       "      <th>2018</th>\n",
       "      <td>Liam</td>\n",
       "      <td>19837</td>\n",
       "    </tr>\n",
       "    <tr>\n",
       "      <th>2018</th>\n",
       "      <td>Noah</td>\n",
       "      <td>18267</td>\n",
       "    </tr>\n",
       "    <tr>\n",
       "      <th>2018</th>\n",
       "      <td>William</td>\n",
       "      <td>14516</td>\n",
       "    </tr>\n",
       "    <tr>\n",
       "      <th>2018</th>\n",
       "      <td>James</td>\n",
       "      <td>13525</td>\n",
       "    </tr>\n",
       "    <tr>\n",
       "      <th>2018</th>\n",
       "      <td>Oliver</td>\n",
       "      <td>13389</td>\n",
       "    </tr>\n",
       "    <tr>\n",
       "      <th>2018</th>\n",
       "      <td>Benjamin</td>\n",
       "      <td>13381</td>\n",
       "    </tr>\n",
       "    <tr>\n",
       "      <th>2018</th>\n",
       "      <td>Elijah</td>\n",
       "      <td>12886</td>\n",
       "    </tr>\n",
       "    <tr>\n",
       "      <th>2018</th>\n",
       "      <td>Lucas</td>\n",
       "      <td>12585</td>\n",
       "    </tr>\n",
       "    <tr>\n",
       "      <th>2018</th>\n",
       "      <td>Mason</td>\n",
       "      <td>12435</td>\n",
       "    </tr>\n",
       "    <tr>\n",
       "      <th>2018</th>\n",
       "      <td>Logan</td>\n",
       "      <td>12352</td>\n",
       "    </tr>\n",
       "  </tbody>\n",
       "</table>\n",
       "</div>"
      ],
      "text/plain": [
       "              name  number\n",
       "sex year                  \n",
       "M   2018      Liam   19837\n",
       "    2018      Noah   18267\n",
       "    2018   William   14516\n",
       "    2018     James   13525\n",
       "    2018    Oliver   13389\n",
       "    2018  Benjamin   13381\n",
       "    2018    Elijah   12886\n",
       "    2018     Lucas   12585\n",
       "    2018     Mason   12435\n",
       "    2018     Logan   12352"
      ]
     },
     "execution_count": 6,
     "metadata": {},
     "output_type": "execute_result"
    }
   ],
   "source": [
    "allyears_byyear.loc['M',2018].sort_values('number', ascending=False).head(10)"
   ]
  },
  {
   "cell_type": "code",
   "execution_count": 7,
   "metadata": {},
   "outputs": [
    {
     "data": {
      "text/html": [
       "<div>\n",
       "<style scoped>\n",
       "    .dataframe tbody tr th:only-of-type {\n",
       "        vertical-align: middle;\n",
       "    }\n",
       "\n",
       "    .dataframe tbody tr th {\n",
       "        vertical-align: top;\n",
       "    }\n",
       "\n",
       "    .dataframe thead th {\n",
       "        text-align: right;\n",
       "    }\n",
       "</style>\n",
       "<table border=\"1\" class=\"dataframe\">\n",
       "  <thead>\n",
       "    <tr style=\"text-align: right;\">\n",
       "      <th></th>\n",
       "      <th></th>\n",
       "      <th>name</th>\n",
       "      <th>number</th>\n",
       "    </tr>\n",
       "    <tr>\n",
       "      <th>sex</th>\n",
       "      <th>year</th>\n",
       "      <th></th>\n",
       "      <th></th>\n",
       "    </tr>\n",
       "  </thead>\n",
       "  <tbody>\n",
       "    <tr>\n",
       "      <th rowspan=\"10\" valign=\"top\">F</th>\n",
       "      <th>2018</th>\n",
       "      <td>Emma</td>\n",
       "      <td>18688</td>\n",
       "    </tr>\n",
       "    <tr>\n",
       "      <th>2018</th>\n",
       "      <td>Olivia</td>\n",
       "      <td>17921</td>\n",
       "    </tr>\n",
       "    <tr>\n",
       "      <th>2018</th>\n",
       "      <td>Ava</td>\n",
       "      <td>14924</td>\n",
       "    </tr>\n",
       "    <tr>\n",
       "      <th>2018</th>\n",
       "      <td>Isabella</td>\n",
       "      <td>14464</td>\n",
       "    </tr>\n",
       "    <tr>\n",
       "      <th>2018</th>\n",
       "      <td>Sophia</td>\n",
       "      <td>13928</td>\n",
       "    </tr>\n",
       "    <tr>\n",
       "      <th>2018</th>\n",
       "      <td>Charlotte</td>\n",
       "      <td>12940</td>\n",
       "    </tr>\n",
       "    <tr>\n",
       "      <th>2018</th>\n",
       "      <td>Mia</td>\n",
       "      <td>12642</td>\n",
       "    </tr>\n",
       "    <tr>\n",
       "      <th>2018</th>\n",
       "      <td>Amelia</td>\n",
       "      <td>12301</td>\n",
       "    </tr>\n",
       "    <tr>\n",
       "      <th>2018</th>\n",
       "      <td>Harper</td>\n",
       "      <td>10582</td>\n",
       "    </tr>\n",
       "    <tr>\n",
       "      <th>2018</th>\n",
       "      <td>Evelyn</td>\n",
       "      <td>10376</td>\n",
       "    </tr>\n",
       "  </tbody>\n",
       "</table>\n",
       "</div>"
      ],
      "text/plain": [
       "               name  number\n",
       "sex year                   \n",
       "F   2018       Emma   18688\n",
       "    2018     Olivia   17921\n",
       "    2018        Ava   14924\n",
       "    2018   Isabella   14464\n",
       "    2018     Sophia   13928\n",
       "    2018  Charlotte   12940\n",
       "    2018        Mia   12642\n",
       "    2018     Amelia   12301\n",
       "    2018     Harper   10582\n",
       "    2018     Evelyn   10376"
      ]
     },
     "execution_count": 7,
     "metadata": {},
     "output_type": "execute_result"
    }
   ],
   "source": [
    "allyears_byyear.loc['F',2018].sort_values('number', ascending=False).head(10)"
   ]
  },
  {
   "cell_type": "code",
   "execution_count": 8,
   "metadata": {},
   "outputs": [
    {
     "data": {
      "text/plain": [
       "0         Emma\n",
       "1       Olivia\n",
       "2          Ava\n",
       "3     Isabella\n",
       "4       Sophia\n",
       "5    Charlotte\n",
       "6          Mia\n",
       "7       Amelia\n",
       "8       Harper\n",
       "9       Evelyn\n",
       "Name: name, dtype: object"
      ]
     },
     "execution_count": 8,
     "metadata": {},
     "output_type": "execute_result"
    }
   ],
   "source": [
    "allyears_byyear.loc['F',2018].sort_values('number', ascending=False).head(10).reset_index().name"
   ]
  },
  {
   "cell_type": "code",
   "execution_count": 9,
   "metadata": {},
   "outputs": [],
   "source": [
    "# get the top ten names for sex and year\n",
    "\n",
    "def getyear(sex, year):\n",
    "    return (allyears_byyear.loc[sex, year]             # select M/F, year\n",
    "               .sort_values('number', ascending=False) # sort by most common\n",
    "               .head(10)                               # only ten\n",
    "               .reset_index()                          # lose the index\n",
    "               .name)                                  # return a name-only Series"
   ]
  },
  {
   "cell_type": "code",
   "execution_count": 10,
   "metadata": {},
   "outputs": [
    {
     "data": {
      "text/html": [
       "<div>\n",
       "<style scoped>\n",
       "    .dataframe tbody tr th:only-of-type {\n",
       "        vertical-align: middle;\n",
       "    }\n",
       "\n",
       "    .dataframe tbody tr th {\n",
       "        vertical-align: top;\n",
       "    }\n",
       "\n",
       "    .dataframe thead th {\n",
       "        text-align: right;\n",
       "    }\n",
       "</style>\n",
       "<table border=\"1\" class=\"dataframe\">\n",
       "  <thead>\n",
       "    <tr style=\"text-align: right;\">\n",
       "      <th></th>\n",
       "      <th>2010</th>\n",
       "      <th>2011</th>\n",
       "      <th>2012</th>\n",
       "      <th>2013</th>\n",
       "      <th>2014</th>\n",
       "      <th>2015</th>\n",
       "      <th>2016</th>\n",
       "      <th>2017</th>\n",
       "      <th>2018</th>\n",
       "    </tr>\n",
       "  </thead>\n",
       "  <tbody>\n",
       "    <tr>\n",
       "      <th>0</th>\n",
       "      <td>Jacob</td>\n",
       "      <td>Jacob</td>\n",
       "      <td>Jacob</td>\n",
       "      <td>Noah</td>\n",
       "      <td>Noah</td>\n",
       "      <td>Noah</td>\n",
       "      <td>Noah</td>\n",
       "      <td>Liam</td>\n",
       "      <td>Liam</td>\n",
       "    </tr>\n",
       "    <tr>\n",
       "      <th>1</th>\n",
       "      <td>Ethan</td>\n",
       "      <td>Mason</td>\n",
       "      <td>Mason</td>\n",
       "      <td>Jacob</td>\n",
       "      <td>Liam</td>\n",
       "      <td>Liam</td>\n",
       "      <td>Liam</td>\n",
       "      <td>Noah</td>\n",
       "      <td>Noah</td>\n",
       "    </tr>\n",
       "    <tr>\n",
       "      <th>2</th>\n",
       "      <td>Michael</td>\n",
       "      <td>William</td>\n",
       "      <td>Ethan</td>\n",
       "      <td>Liam</td>\n",
       "      <td>Mason</td>\n",
       "      <td>Mason</td>\n",
       "      <td>William</td>\n",
       "      <td>William</td>\n",
       "      <td>William</td>\n",
       "    </tr>\n",
       "    <tr>\n",
       "      <th>3</th>\n",
       "      <td>Jayden</td>\n",
       "      <td>Jayden</td>\n",
       "      <td>Noah</td>\n",
       "      <td>Mason</td>\n",
       "      <td>Jacob</td>\n",
       "      <td>Jacob</td>\n",
       "      <td>Mason</td>\n",
       "      <td>James</td>\n",
       "      <td>James</td>\n",
       "    </tr>\n",
       "    <tr>\n",
       "      <th>4</th>\n",
       "      <td>William</td>\n",
       "      <td>Noah</td>\n",
       "      <td>William</td>\n",
       "      <td>William</td>\n",
       "      <td>William</td>\n",
       "      <td>William</td>\n",
       "      <td>James</td>\n",
       "      <td>Logan</td>\n",
       "      <td>Oliver</td>\n",
       "    </tr>\n",
       "    <tr>\n",
       "      <th>5</th>\n",
       "      <td>Alexander</td>\n",
       "      <td>Michael</td>\n",
       "      <td>Liam</td>\n",
       "      <td>Ethan</td>\n",
       "      <td>Ethan</td>\n",
       "      <td>Ethan</td>\n",
       "      <td>Benjamin</td>\n",
       "      <td>Benjamin</td>\n",
       "      <td>Benjamin</td>\n",
       "    </tr>\n",
       "    <tr>\n",
       "      <th>6</th>\n",
       "      <td>Noah</td>\n",
       "      <td>Ethan</td>\n",
       "      <td>Michael</td>\n",
       "      <td>Michael</td>\n",
       "      <td>Michael</td>\n",
       "      <td>James</td>\n",
       "      <td>Jacob</td>\n",
       "      <td>Mason</td>\n",
       "      <td>Elijah</td>\n",
       "    </tr>\n",
       "    <tr>\n",
       "      <th>7</th>\n",
       "      <td>Daniel</td>\n",
       "      <td>Alexander</td>\n",
       "      <td>Jayden</td>\n",
       "      <td>Alexander</td>\n",
       "      <td>Alexander</td>\n",
       "      <td>Alexander</td>\n",
       "      <td>Michael</td>\n",
       "      <td>Elijah</td>\n",
       "      <td>Lucas</td>\n",
       "    </tr>\n",
       "    <tr>\n",
       "      <th>8</th>\n",
       "      <td>Aiden</td>\n",
       "      <td>Aiden</td>\n",
       "      <td>Alexander</td>\n",
       "      <td>Jayden</td>\n",
       "      <td>James</td>\n",
       "      <td>Michael</td>\n",
       "      <td>Elijah</td>\n",
       "      <td>Oliver</td>\n",
       "      <td>Mason</td>\n",
       "    </tr>\n",
       "    <tr>\n",
       "      <th>9</th>\n",
       "      <td>Anthony</td>\n",
       "      <td>Daniel</td>\n",
       "      <td>Aiden</td>\n",
       "      <td>Daniel</td>\n",
       "      <td>Daniel</td>\n",
       "      <td>Benjamin</td>\n",
       "      <td>Ethan</td>\n",
       "      <td>Jacob</td>\n",
       "      <td>Logan</td>\n",
       "    </tr>\n",
       "  </tbody>\n",
       "</table>\n",
       "</div>"
      ],
      "text/plain": [
       "        2010       2011       2012       2013       2014       2015      2016  \\\n",
       "0      Jacob      Jacob      Jacob       Noah       Noah       Noah      Noah   \n",
       "1      Ethan      Mason      Mason      Jacob       Liam       Liam      Liam   \n",
       "2    Michael    William      Ethan       Liam      Mason      Mason   William   \n",
       "3     Jayden     Jayden       Noah      Mason      Jacob      Jacob     Mason   \n",
       "4    William       Noah    William    William    William    William     James   \n",
       "5  Alexander    Michael       Liam      Ethan      Ethan      Ethan  Benjamin   \n",
       "6       Noah      Ethan    Michael    Michael    Michael      James     Jacob   \n",
       "7     Daniel  Alexander     Jayden  Alexander  Alexander  Alexander   Michael   \n",
       "8      Aiden      Aiden  Alexander     Jayden      James    Michael    Elijah   \n",
       "9    Anthony     Daniel      Aiden     Daniel     Daniel   Benjamin     Ethan   \n",
       "\n",
       "       2017      2018  \n",
       "0      Liam      Liam  \n",
       "1      Noah      Noah  \n",
       "2   William   William  \n",
       "3     James     James  \n",
       "4     Logan    Oliver  \n",
       "5  Benjamin  Benjamin  \n",
       "6     Mason    Elijah  \n",
       "7    Elijah     Lucas  \n",
       "8    Oliver     Mason  \n",
       "9     Jacob     Logan  "
      ]
     },
     "execution_count": 10,
     "metadata": {},
     "output_type": "execute_result"
    }
   ],
   "source": [
    "# create DataFrame with columns given by top ten name Series for range of years\n",
    "pd.DataFrame({year: getyear('M',year) for year in range(2010,2019)})"
   ]
  },
  {
   "cell_type": "code",
   "execution_count": 11,
   "metadata": {},
   "outputs": [
    {
     "data": {
      "text/html": [
       "<div>\n",
       "<style scoped>\n",
       "    .dataframe tbody tr th:only-of-type {\n",
       "        vertical-align: middle;\n",
       "    }\n",
       "\n",
       "    .dataframe tbody tr th {\n",
       "        vertical-align: top;\n",
       "    }\n",
       "\n",
       "    .dataframe thead th {\n",
       "        text-align: right;\n",
       "    }\n",
       "</style>\n",
       "<table border=\"1\" class=\"dataframe\">\n",
       "  <thead>\n",
       "    <tr style=\"text-align: right;\">\n",
       "      <th></th>\n",
       "      <th>2010</th>\n",
       "      <th>2011</th>\n",
       "      <th>2012</th>\n",
       "      <th>2013</th>\n",
       "      <th>2014</th>\n",
       "      <th>2015</th>\n",
       "      <th>2016</th>\n",
       "      <th>2017</th>\n",
       "      <th>2018</th>\n",
       "    </tr>\n",
       "  </thead>\n",
       "  <tbody>\n",
       "    <tr>\n",
       "      <th>0</th>\n",
       "      <td>Isabella</td>\n",
       "      <td>Sophia</td>\n",
       "      <td>Sophia</td>\n",
       "      <td>Sophia</td>\n",
       "      <td>Emma</td>\n",
       "      <td>Emma</td>\n",
       "      <td>Emma</td>\n",
       "      <td>Emma</td>\n",
       "      <td>Emma</td>\n",
       "    </tr>\n",
       "    <tr>\n",
       "      <th>1</th>\n",
       "      <td>Sophia</td>\n",
       "      <td>Isabella</td>\n",
       "      <td>Emma</td>\n",
       "      <td>Emma</td>\n",
       "      <td>Olivia</td>\n",
       "      <td>Olivia</td>\n",
       "      <td>Olivia</td>\n",
       "      <td>Olivia</td>\n",
       "      <td>Olivia</td>\n",
       "    </tr>\n",
       "    <tr>\n",
       "      <th>2</th>\n",
       "      <td>Emma</td>\n",
       "      <td>Emma</td>\n",
       "      <td>Isabella</td>\n",
       "      <td>Olivia</td>\n",
       "      <td>Sophia</td>\n",
       "      <td>Sophia</td>\n",
       "      <td>Ava</td>\n",
       "      <td>Ava</td>\n",
       "      <td>Ava</td>\n",
       "    </tr>\n",
       "    <tr>\n",
       "      <th>3</th>\n",
       "      <td>Olivia</td>\n",
       "      <td>Olivia</td>\n",
       "      <td>Olivia</td>\n",
       "      <td>Isabella</td>\n",
       "      <td>Isabella</td>\n",
       "      <td>Ava</td>\n",
       "      <td>Sophia</td>\n",
       "      <td>Isabella</td>\n",
       "      <td>Isabella</td>\n",
       "    </tr>\n",
       "    <tr>\n",
       "      <th>4</th>\n",
       "      <td>Ava</td>\n",
       "      <td>Ava</td>\n",
       "      <td>Ava</td>\n",
       "      <td>Ava</td>\n",
       "      <td>Ava</td>\n",
       "      <td>Isabella</td>\n",
       "      <td>Isabella</td>\n",
       "      <td>Sophia</td>\n",
       "      <td>Sophia</td>\n",
       "    </tr>\n",
       "    <tr>\n",
       "      <th>5</th>\n",
       "      <td>Emily</td>\n",
       "      <td>Emily</td>\n",
       "      <td>Emily</td>\n",
       "      <td>Mia</td>\n",
       "      <td>Mia</td>\n",
       "      <td>Mia</td>\n",
       "      <td>Mia</td>\n",
       "      <td>Mia</td>\n",
       "      <td>Charlotte</td>\n",
       "    </tr>\n",
       "    <tr>\n",
       "      <th>6</th>\n",
       "      <td>Abigail</td>\n",
       "      <td>Abigail</td>\n",
       "      <td>Abigail</td>\n",
       "      <td>Emily</td>\n",
       "      <td>Emily</td>\n",
       "      <td>Abigail</td>\n",
       "      <td>Charlotte</td>\n",
       "      <td>Charlotte</td>\n",
       "      <td>Mia</td>\n",
       "    </tr>\n",
       "    <tr>\n",
       "      <th>7</th>\n",
       "      <td>Madison</td>\n",
       "      <td>Madison</td>\n",
       "      <td>Mia</td>\n",
       "      <td>Abigail</td>\n",
       "      <td>Abigail</td>\n",
       "      <td>Emily</td>\n",
       "      <td>Abigail</td>\n",
       "      <td>Amelia</td>\n",
       "      <td>Amelia</td>\n",
       "    </tr>\n",
       "    <tr>\n",
       "      <th>8</th>\n",
       "      <td>Chloe</td>\n",
       "      <td>Mia</td>\n",
       "      <td>Madison</td>\n",
       "      <td>Madison</td>\n",
       "      <td>Madison</td>\n",
       "      <td>Charlotte</td>\n",
       "      <td>Emily</td>\n",
       "      <td>Evelyn</td>\n",
       "      <td>Harper</td>\n",
       "    </tr>\n",
       "    <tr>\n",
       "      <th>9</th>\n",
       "      <td>Mia</td>\n",
       "      <td>Chloe</td>\n",
       "      <td>Elizabeth</td>\n",
       "      <td>Elizabeth</td>\n",
       "      <td>Charlotte</td>\n",
       "      <td>Harper</td>\n",
       "      <td>Harper</td>\n",
       "      <td>Abigail</td>\n",
       "      <td>Evelyn</td>\n",
       "    </tr>\n",
       "  </tbody>\n",
       "</table>\n",
       "</div>"
      ],
      "text/plain": [
       "       2010      2011       2012       2013       2014       2015       2016  \\\n",
       "0  Isabella    Sophia     Sophia     Sophia       Emma       Emma       Emma   \n",
       "1    Sophia  Isabella       Emma       Emma     Olivia     Olivia     Olivia   \n",
       "2      Emma      Emma   Isabella     Olivia     Sophia     Sophia        Ava   \n",
       "3    Olivia    Olivia     Olivia   Isabella   Isabella        Ava     Sophia   \n",
       "4       Ava       Ava        Ava        Ava        Ava   Isabella   Isabella   \n",
       "5     Emily     Emily      Emily        Mia        Mia        Mia        Mia   \n",
       "6   Abigail   Abigail    Abigail      Emily      Emily    Abigail  Charlotte   \n",
       "7   Madison   Madison        Mia    Abigail    Abigail      Emily    Abigail   \n",
       "8     Chloe       Mia    Madison    Madison    Madison  Charlotte      Emily   \n",
       "9       Mia     Chloe  Elizabeth  Elizabeth  Charlotte     Harper     Harper   \n",
       "\n",
       "        2017       2018  \n",
       "0       Emma       Emma  \n",
       "1     Olivia     Olivia  \n",
       "2        Ava        Ava  \n",
       "3   Isabella   Isabella  \n",
       "4     Sophia     Sophia  \n",
       "5        Mia  Charlotte  \n",
       "6  Charlotte        Mia  \n",
       "7     Amelia     Amelia  \n",
       "8     Evelyn     Harper  \n",
       "9    Abigail     Evelyn  "
      ]
     },
     "execution_count": 11,
     "metadata": {},
     "output_type": "execute_result"
    }
   ],
   "source": [
    "pd.DataFrame({year: getyear('F',year) for year in range(2010,2019)})"
   ]
  },
  {
   "cell_type": "code",
   "execution_count": 12,
   "metadata": {},
   "outputs": [],
   "source": [
    "# similar to plotname in 07_03_popularity, but using a query on unindexed data\n",
    "def plotname(sex, name):\n",
    "    data = allyears.query('sex == @sex and name == @name')\n",
    "    \n",
    "    pp.plot(data.year, data.number, label=name)\n",
    "    pp.axis(xmin=1880, xmax=2018)"
   ]
  }
 ],
 "metadata": {
  "kernelspec": {
   "display_name": ".venv",
   "language": "python",
   "name": "python3"
  },
  "language_info": {
   "codemirror_mode": {
    "name": "ipython",
    "version": 3
   },
   "file_extension": ".py",
   "mimetype": "text/x-python",
   "name": "python",
   "nbconvert_exporter": "python",
   "pygments_lexer": "ipython3",
   "version": "3.13.3"
  }
 },
 "nbformat": 4,
 "nbformat_minor": 2
}
