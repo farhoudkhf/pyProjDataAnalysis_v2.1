{
 "cells": [
  {
   "cell_type": "code",
   "execution_count": 1,
   "id": "6de99ccf",
   "metadata": {},
   "outputs": [],
   "source": [
    "import math\n",
    "import collections\n",
    "\n",
    "import numpy as np\n",
    "import pandas as pd\n",
    "import matplotlib.pyplot as pp\n",
    "\n",
    "%matplotlib inline"
   ]
  },
  {
   "cell_type": "code",
   "execution_count": 2,
   "id": "2295c95f",
   "metadata": {},
   "outputs": [
    {
     "data": {
      "text/plain": [
       "array([0., 3., 6.])"
      ]
     },
     "execution_count": 2,
     "metadata": {},
     "output_type": "execute_result"
    }
   ],
   "source": [
    "np.linspace(0,6,3)"
   ]
  },
  {
   "cell_type": "code",
   "execution_count": 2,
   "id": "1125d413",
   "metadata": {},
   "outputs": [],
   "source": [
    "pd.options.display.max_rows = 10"
   ]
  },
  {
   "cell_type": "code",
   "execution_count": 3,
   "id": "7b196313",
   "metadata": {},
   "outputs": [],
   "source": [
    "allyears24 = pd.read_csv('data/allyears.csv.gz')"
   ]
  },
  {
   "cell_type": "code",
   "execution_count": 4,
   "id": "6bb960e9",
   "metadata": {},
   "outputs": [
    {
     "data": {
      "text/plain": [
       "np.int64(372009150)"
      ]
     },
     "execution_count": 4,
     "metadata": {},
     "output_type": "execute_result"
    }
   ],
   "source": [
    "xTotalCount = allyears24['number'].sum()\n",
    "xTotalCount\n"
   ]
  },
  {
   "cell_type": "code",
   "execution_count": 12,
   "id": "15670c99",
   "metadata": {},
   "outputs": [
    {
     "data": {
      "text/html": [
       "<div>\n",
       "<style scoped>\n",
       "    .dataframe tbody tr th:only-of-type {\n",
       "        vertical-align: middle;\n",
       "    }\n",
       "\n",
       "    .dataframe tbody tr th {\n",
       "        vertical-align: top;\n",
       "    }\n",
       "\n",
       "    .dataframe thead th {\n",
       "        text-align: right;\n",
       "    }\n",
       "</style>\n",
       "<table border=\"1\" class=\"dataframe\">\n",
       "  <thead>\n",
       "    <tr style=\"text-align: right;\">\n",
       "      <th></th>\n",
       "      <th>year</th>\n",
       "      <th>number</th>\n",
       "    </tr>\n",
       "  </thead>\n",
       "  <tbody>\n",
       "    <tr>\n",
       "      <th>0</th>\n",
       "      <td>1880</td>\n",
       "      <td>201,484</td>\n",
       "    </tr>\n",
       "    <tr>\n",
       "      <th>1</th>\n",
       "      <td>1881</td>\n",
       "      <td>192,688</td>\n",
       "    </tr>\n",
       "    <tr>\n",
       "      <th>2</th>\n",
       "      <td>1882</td>\n",
       "      <td>221,533</td>\n",
       "    </tr>\n",
       "    <tr>\n",
       "      <th>3</th>\n",
       "      <td>1883</td>\n",
       "      <td>216,946</td>\n",
       "    </tr>\n",
       "    <tr>\n",
       "      <th>4</th>\n",
       "      <td>1884</td>\n",
       "      <td>243,461</td>\n",
       "    </tr>\n",
       "    <tr>\n",
       "      <th>...</th>\n",
       "      <td>...</td>\n",
       "      <td>...</td>\n",
       "    </tr>\n",
       "    <tr>\n",
       "      <th>140</th>\n",
       "      <td>2020</td>\n",
       "      <td>3,340,577</td>\n",
       "    </tr>\n",
       "    <tr>\n",
       "      <th>141</th>\n",
       "      <td>2021</td>\n",
       "      <td>3,387,949</td>\n",
       "    </tr>\n",
       "    <tr>\n",
       "      <th>142</th>\n",
       "      <td>2022</td>\n",
       "      <td>3,383,135</td>\n",
       "    </tr>\n",
       "    <tr>\n",
       "      <th>143</th>\n",
       "      <td>2023</td>\n",
       "      <td>3,311,196</td>\n",
       "    </tr>\n",
       "    <tr>\n",
       "      <th>144</th>\n",
       "      <td>2024</td>\n",
       "      <td>3,328,501</td>\n",
       "    </tr>\n",
       "  </tbody>\n",
       "</table>\n",
       "<p>145 rows × 2 columns</p>\n",
       "</div>"
      ],
      "text/plain": [
       "     year     number\n",
       "0    1880    201,484\n",
       "1    1881    192,688\n",
       "2    1882    221,533\n",
       "3    1883    216,946\n",
       "4    1884    243,461\n",
       "..    ...        ...\n",
       "140  2020  3,340,577\n",
       "141  2021  3,387,949\n",
       "142  2022  3,383,135\n",
       "143  2023  3,311,196\n",
       "144  2024  3,328,501\n",
       "\n",
       "[145 rows x 2 columns]"
      ]
     },
     "execution_count": 12,
     "metadata": {},
     "output_type": "execute_result"
    }
   ],
   "source": [
    "xTotalCountByYear = allyears24.groupby(['year'])['number'].sum().reset_index()\n",
    "xTotalCountByYear['number'] = xTotalCountByYear['number'].apply(lambda x: \"{:,}\".format(x))\n",
    "xTotalCountByYear"
   ]
  },
  {
   "cell_type": "code",
   "execution_count": 8,
   "id": "24832a2c",
   "metadata": {},
   "outputs": [
    {
     "data": {
      "text/html": [
       "<div>\n",
       "<style scoped>\n",
       "    .dataframe tbody tr th:only-of-type {\n",
       "        vertical-align: middle;\n",
       "    }\n",
       "\n",
       "    .dataframe tbody tr th {\n",
       "        vertical-align: top;\n",
       "    }\n",
       "\n",
       "    .dataframe thead th {\n",
       "        text-align: right;\n",
       "    }\n",
       "</style>\n",
       "<table border=\"1\" class=\"dataframe\">\n",
       "  <thead>\n",
       "    <tr style=\"text-align: right;\">\n",
       "      <th></th>\n",
       "      <th>year</th>\n",
       "      <th>number</th>\n",
       "    </tr>\n",
       "  </thead>\n",
       "  <tbody>\n",
       "    <tr>\n",
       "      <th>0</th>\n",
       "      <td>1880</td>\n",
       "      <td>201484</td>\n",
       "    </tr>\n",
       "    <tr>\n",
       "      <th>1</th>\n",
       "      <td>1881</td>\n",
       "      <td>192688</td>\n",
       "    </tr>\n",
       "    <tr>\n",
       "      <th>2</th>\n",
       "      <td>1882</td>\n",
       "      <td>221533</td>\n",
       "    </tr>\n",
       "    <tr>\n",
       "      <th>3</th>\n",
       "      <td>1883</td>\n",
       "      <td>216946</td>\n",
       "    </tr>\n",
       "    <tr>\n",
       "      <th>4</th>\n",
       "      <td>1884</td>\n",
       "      <td>243461</td>\n",
       "    </tr>\n",
       "    <tr>\n",
       "      <th>...</th>\n",
       "      <td>...</td>\n",
       "      <td>...</td>\n",
       "    </tr>\n",
       "    <tr>\n",
       "      <th>140</th>\n",
       "      <td>2020</td>\n",
       "      <td>3340577</td>\n",
       "    </tr>\n",
       "    <tr>\n",
       "      <th>141</th>\n",
       "      <td>2021</td>\n",
       "      <td>3387949</td>\n",
       "    </tr>\n",
       "    <tr>\n",
       "      <th>142</th>\n",
       "      <td>2022</td>\n",
       "      <td>3383135</td>\n",
       "    </tr>\n",
       "    <tr>\n",
       "      <th>143</th>\n",
       "      <td>2023</td>\n",
       "      <td>3311196</td>\n",
       "    </tr>\n",
       "    <tr>\n",
       "      <th>144</th>\n",
       "      <td>2024</td>\n",
       "      <td>3328501</td>\n",
       "    </tr>\n",
       "  </tbody>\n",
       "</table>\n",
       "<p>145 rows × 2 columns</p>\n",
       "</div>"
      ],
      "text/plain": [
       "     year   number\n",
       "0    1880   201484\n",
       "1    1881   192688\n",
       "2    1882   221533\n",
       "3    1883   216946\n",
       "4    1884   243461\n",
       "..    ...      ...\n",
       "140  2020  3340577\n",
       "141  2021  3387949\n",
       "142  2022  3383135\n",
       "143  2023  3311196\n",
       "144  2024  3328501\n",
       "\n",
       "[145 rows x 2 columns]"
      ]
     },
     "execution_count": 8,
     "metadata": {},
     "output_type": "execute_result"
    }
   ],
   "source": [
    "xTotalCountByYearMax = allyears24.groupby(['year'])['number'].sum().reset_index()\n",
    "# xTotalCountByYearMax['number'] = xTotalCountByYearMax['number'].apply(lambda x: \"{:,}\".format(x))\n",
    "# xTotalCountByYearMax = xTotalCountByYearMax['number'].max()\n",
    "xTotalCountByYearMax"
   ]
  },
  {
   "cell_type": "code",
   "execution_count": 10,
   "id": "5897a755",
   "metadata": {},
   "outputs": [
    {
     "data": {
      "text/plain": [
       "np.int64(4202143)"
      ]
     },
     "execution_count": 10,
     "metadata": {},
     "output_type": "execute_result"
    }
   ],
   "source": [
    "maxCount = xTotalCountByYearMax['number'].max()\n",
    "maxCount"
   ]
  },
  {
   "cell_type": "code",
   "execution_count": 30,
   "id": "210a8efd",
   "metadata": {},
   "outputs": [
    {
     "data": {
      "text/plain": [
       "'988,062'"
      ]
     },
     "execution_count": 30,
     "metadata": {},
     "output_type": "execute_result"
    }
   ],
   "source": [
    "# # max_row_index = df['col2'].idxmax()\n",
    "# # max_row = df.iloc[max_row_index]\n",
    "# # xTotalCountByYear\n",
    "# maxCount_row = xTotalCountByYear['number'].idxmax()\n",
    "# maxCount = xTotalCountByYear.iloc[maxCount_row]\n",
    "# maxCount\n",
    "\n",
    "# # max_sum = grouped_sum.max()\n",
    "# # print(max_sum)\n",
    "\n",
    "max_sum = xTotalCountByYear['number'].max()\n",
    "max_sum"
   ]
  },
  {
   "cell_type": "code",
   "execution_count": 19,
   "id": "265fc406",
   "metadata": {},
   "outputs": [
    {
     "data": {
      "text/html": [
       "<div>\n",
       "<style scoped>\n",
       "    .dataframe tbody tr th:only-of-type {\n",
       "        vertical-align: middle;\n",
       "    }\n",
       "\n",
       "    .dataframe tbody tr th {\n",
       "        vertical-align: top;\n",
       "    }\n",
       "\n",
       "    .dataframe thead th {\n",
       "        text-align: right;\n",
       "    }\n",
       "</style>\n",
       "<table border=\"1\" class=\"dataframe\">\n",
       "  <thead>\n",
       "    <tr style=\"text-align: right;\">\n",
       "      <th></th>\n",
       "      <th>year</th>\n",
       "      <th>number</th>\n",
       "    </tr>\n",
       "  </thead>\n",
       "  <tbody>\n",
       "    <tr>\n",
       "      <th>0</th>\n",
       "      <td>NaN</td>\n",
       "      <td>NaN</td>\n",
       "    </tr>\n",
       "    <tr>\n",
       "      <th>1</th>\n",
       "      <td>NaN</td>\n",
       "      <td>NaN</td>\n",
       "    </tr>\n",
       "    <tr>\n",
       "      <th>2</th>\n",
       "      <td>NaN</td>\n",
       "      <td>NaN</td>\n",
       "    </tr>\n",
       "    <tr>\n",
       "      <th>3</th>\n",
       "      <td>NaN</td>\n",
       "      <td>NaN</td>\n",
       "    </tr>\n",
       "    <tr>\n",
       "      <th>4</th>\n",
       "      <td>NaN</td>\n",
       "      <td>NaN</td>\n",
       "    </tr>\n",
       "    <tr>\n",
       "      <th>...</th>\n",
       "      <td>...</td>\n",
       "      <td>...</td>\n",
       "    </tr>\n",
       "    <tr>\n",
       "      <th>140</th>\n",
       "      <td>NaN</td>\n",
       "      <td>NaN</td>\n",
       "    </tr>\n",
       "    <tr>\n",
       "      <th>141</th>\n",
       "      <td>NaN</td>\n",
       "      <td>NaN</td>\n",
       "    </tr>\n",
       "    <tr>\n",
       "      <th>142</th>\n",
       "      <td>NaN</td>\n",
       "      <td>NaN</td>\n",
       "    </tr>\n",
       "    <tr>\n",
       "      <th>143</th>\n",
       "      <td>NaN</td>\n",
       "      <td>NaN</td>\n",
       "    </tr>\n",
       "    <tr>\n",
       "      <th>144</th>\n",
       "      <td>NaN</td>\n",
       "      <td>NaN</td>\n",
       "    </tr>\n",
       "  </tbody>\n",
       "</table>\n",
       "<p>145 rows × 2 columns</p>\n",
       "</div>"
      ],
      "text/plain": [
       "     year number\n",
       "0     NaN    NaN\n",
       "1     NaN    NaN\n",
       "2     NaN    NaN\n",
       "3     NaN    NaN\n",
       "4     NaN    NaN\n",
       "..    ...    ...\n",
       "140   NaN    NaN\n",
       "141   NaN    NaN\n",
       "142   NaN    NaN\n",
       "143   NaN    NaN\n",
       "144   NaN    NaN\n",
       "\n",
       "[145 rows x 2 columns]"
      ]
     },
     "execution_count": 19,
     "metadata": {},
     "output_type": "execute_result"
    }
   ],
   "source": [
    "# max_sum_rows = grouped_sum[grouped_sum == max_sum]\n",
    "# print(max_sum_rows)\n",
    "\n",
    "max_sum_rows = xTotalCountByYear[xTotalCountByYear == max_sum]\n",
    "max_sum_rows\n"
   ]
  },
  {
   "cell_type": "code",
   "execution_count": 20,
   "id": "4bdf4756",
   "metadata": {},
   "outputs": [
    {
     "name": "stdout",
     "output_type": "stream",
     "text": [
      "Grouped Sum:\n",
      " Category\n",
      "A    25\n",
      "B    45\n",
      "C    40\n",
      "Name: Value, dtype: int64\n",
      "\n",
      "Maximum Sum: 45\n",
      "\n",
      "Rows with Maximum Sum:\n",
      " Category\n",
      "B    45\n",
      "Name: Value, dtype: int64\n"
     ]
    }
   ],
   "source": [
    "data = {'Category': ['A', 'A', 'B', 'B', 'C', 'C'],\n",
    "        'Value': [10, 15, 20, 25, 30, 10]}\n",
    "df = pd.DataFrame(data)\n",
    "\n",
    "# Group by 'Category' and sum the 'Value'\n",
    "grouped_sum = df.groupby('Category')['Value'].sum()\n",
    "\n",
    "# Find the maximum sum\n",
    "max_sum = grouped_sum.max()\n",
    "\n",
    "# Filter for rows with the maximum sum\n",
    "max_sum_rows = grouped_sum[grouped_sum == max_sum]\n",
    "\n",
    "print(\"Grouped Sum:\\n\", grouped_sum)\n",
    "print(\"\\nMaximum Sum:\", max_sum)\n",
    "print(\"\\nRows with Maximum Sum:\\n\", max_sum_rows)"
   ]
  },
  {
   "cell_type": "code",
   "execution_count": 28,
   "id": "719b33eb",
   "metadata": {},
   "outputs": [
    {
     "data": {
      "text/html": [
       "<div>\n",
       "<style scoped>\n",
       "    .dataframe tbody tr th:only-of-type {\n",
       "        vertical-align: middle;\n",
       "    }\n",
       "\n",
       "    .dataframe tbody tr th {\n",
       "        vertical-align: top;\n",
       "    }\n",
       "\n",
       "    .dataframe thead th {\n",
       "        text-align: right;\n",
       "    }\n",
       "</style>\n",
       "<table border=\"1\" class=\"dataframe\">\n",
       "  <thead>\n",
       "    <tr style=\"text-align: right;\">\n",
       "      <th></th>\n",
       "      <th>year</th>\n",
       "      <th>number</th>\n",
       "    </tr>\n",
       "  </thead>\n",
       "  <tbody>\n",
       "    <tr>\n",
       "      <th>0</th>\n",
       "      <td>1957</td>\n",
       "      <td>4,202,143</td>\n",
       "    </tr>\n",
       "  </tbody>\n",
       "</table>\n",
       "</div>"
      ],
      "text/plain": [
       "   year     number\n",
       "0  1957  4,202,143"
      ]
     },
     "execution_count": 28,
     "metadata": {},
     "output_type": "execute_result"
    }
   ],
   "source": [
    "# maximum baby names by year\n",
    "xTotalCountByYear_noIdxRst = allyears24.groupby(['year'])['number'].sum()\n",
    "# xTotalCountByYear['number'] = xTotalCountByYear['number'].apply(lambda x: \"{:,}\".format(x))\n",
    "max_row_data = xTotalCountByYear_noIdxRst[xTotalCountByYear_noIdxRst == xTotalCountByYear_noIdxRst.max()]\n",
    "max_row_data = max_row_data.reset_index()\n",
    "max_row_data['number'] = max_row_data['number'].apply(lambda x: \"{:,}\".format(x))\n",
    "max_row_data"
   ]
  },
  {
   "cell_type": "code",
   "execution_count": 27,
   "id": "94106733",
   "metadata": {},
   "outputs": [
    {
     "data": {
      "text/html": [
       "<div>\n",
       "<style scoped>\n",
       "    .dataframe tbody tr th:only-of-type {\n",
       "        vertical-align: middle;\n",
       "    }\n",
       "\n",
       "    .dataframe tbody tr th {\n",
       "        vertical-align: top;\n",
       "    }\n",
       "\n",
       "    .dataframe thead th {\n",
       "        text-align: right;\n",
       "    }\n",
       "</style>\n",
       "<table border=\"1\" class=\"dataframe\">\n",
       "  <thead>\n",
       "    <tr style=\"text-align: right;\">\n",
       "      <th></th>\n",
       "      <th>year</th>\n",
       "      <th>number</th>\n",
       "    </tr>\n",
       "  </thead>\n",
       "  <tbody>\n",
       "    <tr>\n",
       "      <th>0</th>\n",
       "      <td>1881</td>\n",
       "      <td>192,688</td>\n",
       "    </tr>\n",
       "  </tbody>\n",
       "</table>\n",
       "</div>"
      ],
      "text/plain": [
       "   year   number\n",
       "0  1881  192,688"
      ]
     },
     "execution_count": 27,
     "metadata": {},
     "output_type": "execute_result"
    }
   ],
   "source": [
    "# mininum baby names by year\n",
    "xTotalCountByYear_noIdxRst = allyears24.groupby(['year'])['number'].sum()\n",
    "min_row_data = xTotalCountByYear_noIdxRst[xTotalCountByYear_noIdxRst == xTotalCountByYear_noIdxRst.min()]\n",
    "min_row_data = min_row_data.reset_index()\n",
    "min_row_data['number'] = min_row_data['number'].apply(lambda x: \"{:,}\".format(x))\n",
    "min_row_data"
   ]
  }
 ],
 "metadata": {
  "kernelspec": {
   "display_name": ".venv",
   "language": "python",
   "name": "python3"
  },
  "language_info": {
   "codemirror_mode": {
    "name": "ipython",
    "version": 3
   },
   "file_extension": ".py",
   "mimetype": "text/x-python",
   "name": "python",
   "nbconvert_exporter": "python",
   "pygments_lexer": "ipython3",
   "version": "3.13.3"
  }
 },
 "nbformat": 4,
 "nbformat_minor": 5
}
