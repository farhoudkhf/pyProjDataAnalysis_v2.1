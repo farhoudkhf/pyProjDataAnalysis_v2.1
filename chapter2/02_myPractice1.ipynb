{
 "cells": [
  {
   "cell_type": "code",
   "execution_count": 1,
   "id": "9eca8b19",
   "metadata": {},
   "outputs": [
    {
     "name": "stdout",
     "output_type": "stream",
     "text": [
      "test chapter 2\n"
     ]
    }
   ],
   "source": [
    "print(\"test chapter 2\")"
   ]
  },
  {
   "cell_type": "code",
   "execution_count": 2,
   "id": "0f8df0c8",
   "metadata": {},
   "outputs": [
    {
     "name": "stdout",
     "output_type": "stream",
     "text": [
      "test 2 Initialize Repo - chapter 2\n"
     ]
    }
   ],
   "source": [
    "print(\"test 2 Initialize Repo - chapter 2\")"
   ]
  },
  {
   "cell_type": "code",
   "execution_count": null,
   "id": "9d2b3478",
   "metadata": {},
   "outputs": [],
   "source": []
  }
 ],
 "metadata": {
  "kernelspec": {
   "display_name": ".venv",
   "language": "python",
   "name": "python3"
  },
  "language_info": {
   "codemirror_mode": {
    "name": "ipython",
    "version": 3
   },
   "file_extension": ".py",
   "mimetype": "text/x-python",
   "name": "python",
   "nbconvert_exporter": "python",
   "pygments_lexer": "ipython3",
   "version": "3.13.3"
  }
 },
 "nbformat": 4,
 "nbformat_minor": 5
}
