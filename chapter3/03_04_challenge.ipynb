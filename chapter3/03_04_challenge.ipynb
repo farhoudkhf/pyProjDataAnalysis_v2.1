{
 "cells": [
  {
   "cell_type": "markdown",
   "id": "b7fdd13b",
   "metadata": {},
   "source": [
    "# Challenge: Palindromes\n",
    "\n",
    "* find all palindromic pairs of words in the English language, or at least, in our dictionary. \n",
    "\n",
    "* That is, you should find pairs of words that become each other when we reverse the order of their letters. \n",
    "**For instance, reward and drawer.** \n",
    "\n",
    "* That will also include true palindromes, such as radar, where the reverse of the word is the word itself. **radar**"
   ]
  },
  {
   "cell_type": "code",
   "execution_count": 45,
   "id": "5d5cc111",
   "metadata": {},
   "outputs": [],
   "source": [
    "import math\n",
    "import collections\n",
    "\n",
    "import numpy as np\n",
    "import pandas as pd\n",
    "import matplotlib.pyplot as pp\n",
    "\n",
    "%matplotlib inline"
   ]
  },
  {
   "cell_type": "code",
   "execution_count": 1,
   "id": "83bc5de9",
   "metadata": {},
   "outputs": [],
   "source": [
    "words = sorted({line.strip().lower() for line in open('words.txt', 'r')})"
   ]
  },
  {
   "cell_type": "code",
   "execution_count": null,
   "id": "0a4444a6",
   "metadata": {},
   "outputs": [],
   "source": [
    "# reverse_ducks = sorted(ducks, reverse=True)\n",
    "reverse_word = sorted(\"aaron\", reverse=True)\n",
    "reverse_word"
   ]
  },
  {
   "cell_type": "code",
   "execution_count": 110,
   "id": "54c8e8ad",
   "metadata": {},
   "outputs": [],
   "source": [
    "def reverse_not_sorted(word_to_reverse):\n",
    "    return word_to_reverse[::-1]\n",
    "\n",
    "def true_palindromes_checker(word_to_check):\n",
    "    return word_to_check == reverse_not_sorted(word_to_check)\n",
    "\n",
    "def palindromes_checker(word_to_check):\n",
    "    x = find_anagram_fast(word_to_check)\n",
    "    if len(find_anagram_fast(word_to_check)) == 0:\n",
    "        return word_to_check + ' - is true palindrom' if true_palindromes_checker(word_to_check) else \"this is not true palindrom or the word is not in the dictionary\"\n",
    "    else:\n",
    "        # return  '-number of anagram found: ' + str(len(x)) + ' ' + ', '.join(sorted(x))\n",
    "        for eachwords in sorted(x):\n",
    "            if eachwords == reverse_not_sorted(word_to_check):\n",
    "                return word_to_check + ' - is a palindrom'\n",
    "            else:\n",
    "                return word_to_check + ' - is not a palindrom'\n",
    "            \n",
    "\n",
    "    \n",
    "\n",
    "    "
   ]
  },
  {
   "cell_type": "code",
   "execution_count": 42,
   "id": "7c225962",
   "metadata": {},
   "outputs": [
    {
     "data": {
      "text/plain": [
       "True"
      ]
     },
     "execution_count": 42,
     "metadata": {},
     "output_type": "execute_result"
    }
   ],
   "source": [
    "myWordToCheck = \"ala\"\n",
    "true_palindromes_checker(myWordToCheck)"
   ]
  },
  {
   "cell_type": "code",
   "execution_count": null,
   "id": "518eb58e",
   "metadata": {},
   "outputs": [],
   "source": []
  },
  {
   "cell_type": "code",
   "execution_count": 48,
   "id": "3d1f0cf0",
   "metadata": {},
   "outputs": [],
   "source": [
    "# compute the signature string for a word\n",
    "\n",
    "def signature(word):\n",
    "    return ''.join(sorted(word))"
   ]
  },
  {
   "cell_type": "code",
   "execution_count": 49,
   "id": "39d01a56",
   "metadata": {},
   "outputs": [],
   "source": [
    "# make a dict that maps each signature to the set of words with that signature;\n",
    "# each signature will map to at least one word\n",
    "\n",
    "words_by_sig = collections.defaultdict(set)\n",
    "\n",
    "for word in words:\n",
    "    words_by_sig[signature(word)].add(word)"
   ]
  },
  {
   "cell_type": "code",
   "execution_count": 50,
   "id": "45cba364",
   "metadata": {},
   "outputs": [],
   "source": [
    "# keep only the key/value pairs where the set has more than one element;\n",
    "# this is now a regular dict\n",
    "\n",
    "anagrams_by_sig = {sig: wordset for sig, wordset in words_by_sig.items() if len(wordset) > 1}"
   ]
  },
  {
   "cell_type": "code",
   "execution_count": 68,
   "id": "bc011ff1",
   "metadata": {},
   "outputs": [],
   "source": [
    "# handle case when myword's signature is not found, returning the empty set\n",
    "\n",
    "def find_anagram_fast(myword):\n",
    "    sig = signature(myword)\n",
    "\n",
    "    try:\n",
    "        return anagrams_by_sig[sig]\n",
    "    except KeyError:\n",
    "        return set()"
   ]
  },
  {
   "cell_type": "code",
   "execution_count": 56,
   "id": "98502f26",
   "metadata": {},
   "outputs": [
    {
     "data": {
      "text/plain": [
       "{'drawer', 'redraw', 'reward', 'warder'}"
      ]
     },
     "execution_count": 56,
     "metadata": {},
     "output_type": "execute_result"
    }
   ],
   "source": [
    "find_anagram_fast('reward')"
   ]
  },
  {
   "cell_type": "code",
   "execution_count": 114,
   "id": "b59bddad",
   "metadata": {},
   "outputs": [
    {
     "data": {
      "text/plain": [
       "'tops - is not a palindrom'"
      ]
     },
     "execution_count": 114,
     "metadata": {},
     "output_type": "execute_result"
    }
   ],
   "source": [
    "palindromes_checker('tops')"
   ]
  }
 ],
 "metadata": {
  "kernelspec": {
   "display_name": ".venv",
   "language": "python",
   "name": "python3"
  },
  "language_info": {
   "codemirror_mode": {
    "name": "ipython",
    "version": 3
   },
   "file_extension": ".py",
   "mimetype": "text/x-python",
   "name": "python",
   "nbconvert_exporter": "python",
   "pygments_lexer": "ipython3",
   "version": "3.13.3"
  }
 },
 "nbformat": 4,
 "nbformat_minor": 5
}
