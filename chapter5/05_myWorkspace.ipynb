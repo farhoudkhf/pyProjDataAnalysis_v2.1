{
 "cells": [
  {
   "cell_type": "code",
   "execution_count": 2,
   "id": "45715641",
   "metadata": {},
   "outputs": [],
   "source": [
    "import math\n",
    "import collections\n",
    "import urllib\n",
    "\n",
    "import numpy as np\n",
    "import pandas as pd\n",
    "import matplotlib.pyplot as pp\n",
    "\n",
    "%matplotlib inline"
   ]
  },
  {
   "cell_type": "code",
   "execution_count": 5,
   "id": "b36c015d",
   "metadata": {},
   "outputs": [],
   "source": [
    "import getweather"
   ]
  },
  {
   "cell_type": "code",
   "execution_count": 6,
   "id": "70bd2507",
   "metadata": {},
   "outputs": [],
   "source": [
    "pasadena = getweather.getyear('PASADENA', ['TMIN', 'TMAX'], 2001)"
   ]
  },
  {
   "cell_type": "code",
   "execution_count": 9,
   "id": "c12d17a1",
   "metadata": {},
   "outputs": [],
   "source": [
    "good = ~np.isnan(pasadena['TMIN']) # ~ means \"not\" \n",
    "bad = np.isnan(pasadena['TMIN'])"
   ]
  },
  {
   "cell_type": "code",
   "execution_count": 10,
   "id": "abc44eb5",
   "metadata": {},
   "outputs": [
    {
     "data": {
      "text/plain": [
       "array([False, False, False, False, False, False, False, False, False,\n",
       "       False, False, False, False, False, False, False, False, False,\n",
       "       False, False, False, False, False, False, False, False, False,\n",
       "       False, False, False, False, False, False,  True, False, False,\n",
       "       False, False, False, False, False, False, False, False, False,\n",
       "       False, False, False, False, False, False, False, False, False,\n",
       "       False, False, False, False, False, False, False, False, False,\n",
       "       False, False, False, False, False, False, False, False, False,\n",
       "       False, False, False, False, False, False, False, False, False,\n",
       "       False, False, False, False, False, False, False, False, False,\n",
       "       False, False, False, False, False, False, False, False, False,\n",
       "       False, False, False, False, False, False, False, False, False,\n",
       "       False, False, False, False, False, False, False, False, False,\n",
       "       False,  True, False, False, False, False, False, False, False,\n",
       "       False, False, False, False, False, False, False, False, False,\n",
       "       False, False, False,  True, False, False, False, False, False,\n",
       "       False, False, False, False, False, False, False, False, False,\n",
       "       False, False, False, False, False, False, False, False,  True,\n",
       "       False,  True,  True,  True, False, False, False, False, False,\n",
       "       False, False,  True, False, False, False, False, False, False,\n",
       "       False, False, False, False, False, False, False, False, False,\n",
       "       False, False, False, False, False, False, False, False, False,\n",
       "       False, False, False, False, False, False, False,  True, False,\n",
       "       False, False, False, False, False, False, False, False, False,\n",
       "       False, False, False, False, False, False, False, False, False,\n",
       "       False, False, False, False, False, False, False, False, False,\n",
       "       False, False, False, False, False, False, False, False, False,\n",
       "       False, False, False, False, False, False, False, False, False,\n",
       "       False, False, False, False, False, False, False, False, False,\n",
       "       False, False, False, False, False, False, False, False, False,\n",
       "       False, False, False, False, False, False, False, False,  True,\n",
       "        True, False, False, False, False, False, False, False, False,\n",
       "       False, False, False, False, False, False, False, False, False,\n",
       "       False, False, False, False, False, False, False, False, False,\n",
       "       False, False, False, False, False, False, False, False, False,\n",
       "        True, False, False, False, False, False, False, False, False,\n",
       "       False, False, False, False,  True, False, False, False, False,\n",
       "       False, False, False, False, False, False, False, False, False,\n",
       "       False, False, False, False, False, False, False, False, False,\n",
       "       False, False, False, False, False,  True, False, False, False,\n",
       "        True, False, False, False, False])"
      ]
     },
     "execution_count": 10,
     "metadata": {},
     "output_type": "execute_result"
    }
   ],
   "source": [
    "bad"
   ]
  },
  {
   "cell_type": "code",
   "execution_count": 8,
   "id": "7ed26523",
   "metadata": {},
   "outputs": [
    {
     "data": {
      "text/plain": [
       "array([ True,  True,  True,  True,  True,  True,  True,  True,  True,\n",
       "        True,  True,  True,  True,  True,  True,  True,  True,  True,\n",
       "        True,  True,  True,  True,  True,  True,  True,  True,  True,\n",
       "        True,  True,  True,  True,  True,  True, False,  True,  True,\n",
       "        True,  True,  True,  True,  True,  True,  True,  True,  True,\n",
       "        True,  True,  True,  True,  True,  True,  True,  True,  True,\n",
       "        True,  True,  True,  True,  True,  True,  True,  True,  True,\n",
       "        True,  True,  True,  True,  True,  True,  True,  True,  True,\n",
       "        True,  True,  True,  True,  True,  True,  True,  True,  True,\n",
       "        True,  True,  True,  True,  True,  True,  True,  True,  True,\n",
       "        True,  True,  True,  True,  True,  True,  True,  True,  True,\n",
       "        True,  True,  True,  True,  True,  True,  True,  True,  True,\n",
       "        True,  True,  True,  True,  True,  True,  True,  True,  True,\n",
       "        True, False,  True,  True,  True,  True,  True,  True,  True,\n",
       "        True,  True,  True,  True,  True,  True,  True,  True,  True,\n",
       "        True,  True,  True, False,  True,  True,  True,  True,  True,\n",
       "        True,  True,  True,  True,  True,  True,  True,  True,  True,\n",
       "        True,  True,  True,  True,  True,  True,  True,  True, False,\n",
       "        True, False, False, False,  True,  True,  True,  True,  True,\n",
       "        True,  True, False,  True,  True,  True,  True,  True,  True,\n",
       "        True,  True,  True,  True,  True,  True,  True,  True,  True,\n",
       "        True,  True,  True,  True,  True,  True,  True,  True,  True,\n",
       "        True,  True,  True,  True,  True,  True,  True, False,  True,\n",
       "        True,  True,  True,  True,  True,  True,  True,  True,  True,\n",
       "        True,  True,  True,  True,  True,  True,  True,  True,  True,\n",
       "        True,  True,  True,  True,  True,  True,  True,  True,  True,\n",
       "        True,  True,  True,  True,  True,  True,  True,  True,  True,\n",
       "        True,  True,  True,  True,  True,  True,  True,  True,  True,\n",
       "        True,  True,  True,  True,  True,  True,  True,  True,  True,\n",
       "        True,  True,  True,  True,  True,  True,  True,  True,  True,\n",
       "        True,  True,  True,  True,  True,  True,  True,  True, False,\n",
       "       False,  True,  True,  True,  True,  True,  True,  True,  True,\n",
       "        True,  True,  True,  True,  True,  True,  True,  True,  True,\n",
       "        True,  True,  True,  True,  True,  True,  True,  True,  True,\n",
       "        True,  True,  True,  True,  True,  True,  True,  True,  True,\n",
       "       False,  True,  True,  True,  True,  True,  True,  True,  True,\n",
       "        True,  True,  True,  True, False,  True,  True,  True,  True,\n",
       "        True,  True,  True,  True,  True,  True,  True,  True,  True,\n",
       "        True,  True,  True,  True,  True,  True,  True,  True,  True,\n",
       "        True,  True,  True,  True,  True, False,  True,  True,  True,\n",
       "       False,  True,  True,  True,  True])"
      ]
     },
     "execution_count": 8,
     "metadata": {},
     "output_type": "execute_result"
    }
   ],
   "source": [
    "good"
   ]
  },
  {
   "cell_type": "code",
   "execution_count": 13,
   "id": "93bcaacc",
   "metadata": {},
   "outputs": [],
   "source": [
    "stations = np.genfromtxt('stations.txt', delimiter=[11,9,10,7,3,31,4,4,6],\n",
    "                                         names=['id','latitude','longitude','elevation','state','name',\n",
    "                                                'gsn','hcn','wmo'],\n",
    "                                         dtype=['U11','d','d','d','U3','U31','U4','U4','U6'],\n",
    "                                         autostrip=True)"
   ]
  },
  {
   "cell_type": "code",
   "execution_count": 19,
   "id": "358191c7",
   "metadata": {},
   "outputs": [
    {
     "data": {
      "text/plain": [
       "129657"
      ]
     },
     "execution_count": 19,
     "metadata": {},
     "output_type": "execute_result"
    }
   ],
   "source": [
    "len(stations)"
   ]
  },
  {
   "cell_type": "code",
   "execution_count": 16,
   "id": "566dbebf",
   "metadata": {},
   "outputs": [],
   "source": [
    "# finding unique values in a column\n",
    "unique_states = np.unique(stations['name'])\n"
   ]
  },
  {
   "cell_type": "code",
   "execution_count": 18,
   "id": "1bb61cd3",
   "metadata": {},
   "outputs": [
    {
     "data": {
      "text/plain": [
       "121369"
      ]
     },
     "execution_count": 18,
     "metadata": {},
     "output_type": "execute_result"
    }
   ],
   "source": [
    "len(unique_states)"
   ]
  },
  {
   "cell_type": "code",
   "execution_count": 27,
   "id": "f7f3278c",
   "metadata": {},
   "outputs": [
    {
     "data": {
      "text/plain": [
       "array([('US1NYNY0074', 40.7969, -73.933 ,   6.1, 'NY', 'NEW YORK 8.8 N', '', '', ''),\n",
       "       ('USC00215902', 46.5203, -95.3372, 431.3, 'MN', 'NEW YORK MILLS', '', '', ''),\n",
       "       ('USC00305798', 40.6   , -73.9667,   6.1, 'NY', 'NEW YORK BENSONHURST', '', '', ''),\n",
       "       ('USC00305799', 40.8667, -73.8833,  27.1, 'NY', 'NEW YORK BOTANICAL GRD', '', '', ''),\n",
       "       ('USC00305804', 40.7333, -73.9333,   3. , 'NY', 'NEW YORK LAUREL HILL', '', '', ''),\n",
       "       ('USC00305806', 40.85  , -73.9167,  54.9, 'NY', 'NEW YORK UNIV ST', '', '', ''),\n",
       "       ('USW00014786', 40.5833, -73.8833,   4.9, 'NY', 'NEW YORK FLOYD BENNETT FLD', '', '', ''),\n",
       "       ('USW00093732', 39.8   , -72.6667,  25.9, 'NY', 'NEW YORK SHOALS AFS', '', '', '')],\n",
       "      dtype=[('id', '<U11'), ('latitude', '<f8'), ('longitude', '<f8'), ('elevation', '<f8'), ('state', '<U3'), ('name', '<U31'), ('gsn', '<U4'), ('hcn', '<U4'), ('wmo', '<U6')])"
      ]
     },
     "execution_count": 27,
     "metadata": {},
     "output_type": "execute_result"
    }
   ],
   "source": [
    "# finding all stations in New York, ==0 means \"starts with\", ==1 means \"contains\", ==2 means \"ends with\"\n",
    "stations[np.char.find(stations['name'], 'NEW YORK') == 0]"
   ]
  },
  {
   "cell_type": "code",
   "execution_count": 28,
   "id": "60f722af",
   "metadata": {},
   "outputs": [
    {
     "data": {
      "text/plain": [
       "array([('CA001108380', 49.1833, -123.1833,   2. , 'BC', 'VANCOUVER SEA ISLAND CCG', '', '', '71608'),\n",
       "       ('CA001108395', 49.2   , -123.1833,   4. , 'BC', 'VANCOUVER INTL A', '', '', '71892'),\n",
       "       ('CA001108410', 49.25  , -123.05  ,  79. , 'BC', 'VANCOUVER CEDAR COTTAGE', '', '', ''),\n",
       "       ('CA001108414', 49.2333, -123.0167, 122. , 'BC', 'VANCOUVER CENTRAL PARK', '', '', ''),\n",
       "       ('CA001108430', 49.2833, -123.1167,  86. , 'BC', 'VANCOUVER CITY HALL', '', '', ''),\n",
       "       ('CA001108435', 49.2333, -123.1833,  61. , 'BC', 'VANCOUVER DUNBAR', '', '', ''),\n",
       "       ('CA001108436', 49.25  , -123.1833,  61. , 'BC', 'VANCOUVER DUNBAR SOUTH', '', '', ''),\n",
       "       ('CA001108440', 49.2833, -123.05  ,  35. , 'BC', 'VANCOUVER EXHIB PARK', '', '', ''),\n",
       "       ('CA001108442', 49.2667, -123.1333,  35. , 'BC', 'VANCOUVER FAIRVIEW', '', '', ''),\n",
       "       ('CA001108445', 49.2   , -123.05  ,  85. , 'BC', 'VANCOUVER FRASERVIEW', '', '', ''),\n",
       "       ('CA001108446', 49.3   , -123.1167,   3. , 'BC', 'VANCOUVER HARBOUR CS', '', '', '71201'),\n",
       "       ('CA001108447', 49.2   , -123.1833,   4. , 'BC', \"VANCOUVER INT'L A\", '', '', '71892'),\n",
       "       ('CA001108448', 49.2333, -123.1667,  46. , 'BC', 'VANCOUVER KERRISDALE', '', '', ''),\n",
       "       ('CA001108449', 49.2333, -123.1333,  88. , 'BC', 'VANCOUVER KERRISDALE', '', '', ''),\n",
       "       ('CA001108450', 49.25  , -123.0833,  66. , 'BC', 'VANCOUVER KINGCREST', '', '', ''),\n",
       "       ('CA001108453', 49.2667, -123.1667,  12. , 'BC', 'VANCOUVER KITSILANO', '', '', ''),\n",
       "       ('CA001108455', 49.2   , -123.1333,  31. , 'BC', 'VANCOUVER MARPOLE', '', '', ''),\n",
       "       ('CA001108460', 49.2667, -123.1   ,  49. , 'BC', 'VANCOUVER MT PLEASANT', '', '', ''),\n",
       "       ('CA001108462', 49.2167, -123.1333,  82. , 'BC', 'VANCOUVER OAK 53', '', '', ''),\n",
       "       ('CA001108463', 49.2333, -123.1167,  76. , 'BC', 'VANCOUVER OAKRIDGE', '', '', ''),\n",
       "       ('CA001108465', 49.2833, -123.1167,  59. , 'BC', 'VANCOUVER PMO', '', '', ''),\n",
       "       ('CA001108470', 49.2333, -123.15  ,  84. , 'BC', 'VANCOUVER QUILCHENA', '', '', ''),\n",
       "       ('CA001108471', 49.2333, -123.0333,  91. , 'BC', 'VANCOUVER RUPERT ST', '', '', ''),\n",
       "       ('CA001108473', 49.2333, -123.1833,   8. , 'BC', 'VANCOUVER SOUTHLANDS', '', '', ''),\n",
       "       ('CA001108475', 49.2167, -123.0667,  64. , 'BC', 'VANCOUVER SOUTH FRASER', '', '', ''),\n",
       "       ('CA001108482', 49.2667, -123.15  ,  42. , 'BC', 'VANCOUVER TRAFALGAR PK', '', '', ''),\n",
       "       ('CA001108487', 49.25  , -123.25  ,  87. , 'BC', 'VANCOUVER UBC', '', '', ''),\n",
       "       ('CA001108488', 49.2667, -123.2167,  61. , 'BC', 'VANCOUVER WEST PT GREY', '', '', ''),\n",
       "       ('CA001108489', 49.2667, -123.2   ,  76. , 'BC', 'VANCOUVER WPG BYNG', '', '', ''),\n",
       "       ('CA001108M87', 49.2167, -123.05  ,  91. , 'BC', 'VANCOUVER WALES ST', '', '', ''),\n",
       "       ('CA00110H447', 49.2667, -123.1667,   7. , 'BC', 'VANCOUVER JERICHO BEACH', '', '', ''),\n",
       "       ('CA00110H488', 49.2667, -123.1667,  55. , 'BC', 'VANCOUVER WEST 10TH', '', '', ''),\n",
       "       ('CA00110HD45', 49.2667, -123.0333,  53. , 'BC', 'VANCOUVER GRANDVIEW E', '', '', ''),\n",
       "       ('CA00110HD4N', 49.2833, -123.05  ,  46. , 'BC', 'VANCOUVER GRANDVIEW N', '', '', ''),\n",
       "       ('CA00110HM5C', 49.2667, -123.1667,  12. , 'BC', 'VANCOUVER KITSILANO BEACH', '', '', ''),\n",
       "       ('CA1BC000039', 49.2227, -123.1331,  59.1, 'BC', 'VANCOUVER 3.4 SSW', '', '', ''),\n",
       "       ('CA1BC000048', 49.2585, -123.1281,  64.6, 'BC', 'VANCOUVER 1.8 NNW', '', '', ''),\n",
       "       ('CA1BC000067', 49.254 , -123.1086,  66.4, 'BC', 'VANCOUVER 1.1 NNE', '', '', ''),\n",
       "       ('CA1BC000072', 49.2589, -123.1564, 156.1, 'BC', 'VANCOUVER 3.4 WNW', '', '', ''),\n",
       "       ('CA1BC000087', 49.2588, -123.109 ,  53.3, 'BC', 'VANCOUVER 1.6 NNE', '', '', ''),\n",
       "       ('US1WACK0009', 45.7034, -122.6106,  79.9, 'WA', 'VANCOUVER 5.3 NE', '', '', ''),\n",
       "       ('US1WACK0015', 45.6686, -122.6862,  50.9, 'WA', 'VANCOUVER 2.1 NW', '', '', ''),\n",
       "       ('US1WACK0021', 45.6562, -122.6399,  77.1, 'WA', 'VANCOUVER 1.9 NE', '', '', ''),\n",
       "       ('US1WACK0022', 45.6807, -122.6841,  64. , 'WA', 'VANCOUVER 2.9 NNW', '', '', ''),\n",
       "       ('US1WACK0024', 45.699 , -122.6506,  53.9, 'WA', 'VANCOUVER 4.2 NNE', '', '', ''),\n",
       "       ('US1WACK0035', 45.6722, -122.5971,  88.1, 'WA', 'VANCOUVER 3.9 NE', '', '', ''),\n",
       "       ('US1WACK0038', 45.7184, -122.6827,  58.2, 'WA', 'VANCOUVER 5.4 N', '', '', ''),\n",
       "       ('US1WACK0054', 45.6718, -122.5939,  84.4, 'WA', 'VANCOUVER 3.5 NE', '', '', ''),\n",
       "       ('US1WACK0055', 45.7323, -122.6532,  64. , 'WA', 'VANCOUVER 6.5 N', '', '', ''),\n",
       "       ('US1WACK0057', 45.6789, -122.5436,  76.2, 'WA', 'VANCOUVER 6.3 ENE', '', '', ''),\n",
       "       ('US1WACK0064', 45.6975, -122.7019,  64. , 'WA', 'VANCOUVER 5.2 NNW', '', '', ''),\n",
       "       ('US1WACK0068', 45.6942, -122.5494,  81.1, 'WA', 'VANCOUVER 7.5 NE', '', '', ''),\n",
       "       ('USC00458773', 45.6775, -122.6514,  67.1, 'WA', 'VANCOUVER 4 NNE', '', 'HCN', ''),\n",
       "       ('USC00458778', 45.6211, -122.6742,   0.6, 'WA', 'VANCOUVER INTERST BRG', '', '', ''),\n",
       "       ('USW00094298', 45.6211, -122.6542,   6.4, 'WA', 'VANCOUVER PEARSON AP', '', '', '')],\n",
       "      dtype=[('id', '<U11'), ('latitude', '<f8'), ('longitude', '<f8'), ('elevation', '<f8'), ('state', '<U3'), ('name', '<U31'), ('gsn', '<U4'), ('hcn', '<U4'), ('wmo', '<U6')])"
      ]
     },
     "execution_count": 28,
     "metadata": {},
     "output_type": "execute_result"
    }
   ],
   "source": [
    "stations[np.char.find(stations['name'], 'VANCOUVER') == 0]"
   ]
  }
 ],
 "metadata": {
  "kernelspec": {
   "display_name": ".venv",
   "language": "python",
   "name": "python3"
  },
  "language_info": {
   "codemirror_mode": {
    "name": "ipython",
    "version": 3
   },
   "file_extension": ".py",
   "mimetype": "text/x-python",
   "name": "python",
   "nbconvert_exporter": "python",
   "pygments_lexer": "ipython3",
   "version": "3.13.3"
  }
 },
 "nbformat": 4,
 "nbformat_minor": 5
}
