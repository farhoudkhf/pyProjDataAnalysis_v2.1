{
 "cells": [
  {
   "cell_type": "code",
   "execution_count": 3,
   "id": "a29c9aae-fd2e-4d5d-81cb-c0d18e03c5e2",
   "metadata": {},
   "outputs": [
    {
     "name": "stdout",
     "output_type": "stream",
     "text": [
      "hello world\n"
     ]
    }
   ],
   "source": [
    "print(\"hello world\")"
   ]
  },
  {
   "cell_type": "code",
   "execution_count": 2,
   "id": "7d5a601e-4f6e-40b5-a951-fe4b92afc70a",
   "metadata": {},
   "outputs": [
    {
     "name": "stdout",
     "output_type": "stream",
     "text": [
      "h\n",
      "e\n",
      "l\n",
      "l\n",
      "o\n",
      " \n",
      "w\n",
      "o\n",
      "r\n",
      "l\n",
      "d\n"
     ]
    }
   ],
   "source": [
    "for letters in \"hello world\":\n",
    "    print(letters)"
   ]
  },
  {
   "cell_type": "code",
   "execution_count": 6,
   "id": "4b100b97-b41d-497c-a719-55b637618221",
   "metadata": {},
   "outputs": [
    {
     "name": "stdout",
     "output_type": "stream",
     "text": [
      "h <-> e <-> l <-> l <-> o <->   <-> w <-> o <-> r <-> l <-> d <-> "
     ]
    }
   ],
   "source": [
    "for letters in \"hello world\":\n",
    "    print(letters, end=\" <-> \")"
   ]
  },
  {
   "cell_type": "markdown",
   "id": "51031d5c",
   "metadata": {},
   "source": [
    "* bullet point \n",
    "\n",
    "A formula: $\\sqrt{1+x}$\n",
    "\n",
    "https://jupyter.org/\n",
    "\n",
    "https://docs.jupyter.org/en/latest/\n"
   ]
  },
  {
   "cell_type": "code",
   "execution_count": null,
   "id": "a4e755a3",
   "metadata": {},
   "outputs": [],
   "source": []
  }
 ],
 "metadata": {
  "kernelspec": {
   "display_name": "Python 3 (ipykernel)",
   "language": "python",
   "name": "python3"
  },
  "language_info": {
   "codemirror_mode": {
    "name": "ipython",
    "version": 3
   },
   "file_extension": ".py",
   "mimetype": "text/x-python",
   "name": "python",
   "nbconvert_exporter": "python",
   "pygments_lexer": "ipython3",
   "version": "3.11.7"
  }
 },
 "nbformat": 4,
 "nbformat_minor": 5
}
