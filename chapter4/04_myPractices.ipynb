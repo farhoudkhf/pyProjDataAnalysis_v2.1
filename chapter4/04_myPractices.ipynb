{
 "cells": [
  {
   "cell_type": "code",
   "execution_count": 1,
   "id": "88924dcd",
   "metadata": {},
   "outputs": [],
   "source": [
    "import math\n",
    "import collections\n",
    "\n",
    "import numpy as np\n",
    "import pandas as pd\n",
    "import matplotlib.pyplot as pp\n",
    "\n",
    "%matplotlib inline"
   ]
  },
  {
   "cell_type": "code",
   "execution_count": 3,
   "id": "0b9d1bc2",
   "metadata": {},
   "outputs": [],
   "source": [
    "fromlist = np.array([[1,2,3],[4,5,6],[7,8,9]])"
   ]
  },
  {
   "cell_type": "code",
   "execution_count": 4,
   "id": "46a0c293",
   "metadata": {},
   "outputs": [
    {
     "data": {
      "text/plain": [
       "array([[1, 2, 3],\n",
       "       [4, 5, 6],\n",
       "       [7, 8, 9]])"
      ]
     },
     "execution_count": 4,
     "metadata": {},
     "output_type": "execute_result"
    }
   ],
   "source": [
    "fromlist"
   ]
  },
  {
   "cell_type": "code",
   "execution_count": 5,
   "id": "aab7eccf",
   "metadata": {},
   "outputs": [
    {
     "data": {
      "text/plain": [
       "(3, 3)"
      ]
     },
     "execution_count": 5,
     "metadata": {},
     "output_type": "execute_result"
    }
   ],
   "source": [
    "fromlist.shape"
   ]
  },
  {
   "cell_type": "code",
   "execution_count": 11,
   "id": "031489a5",
   "metadata": {},
   "outputs": [],
   "source": [
    "fromlist3d = np.array([[[1,2,3, 0],[4,5,6, 0],[7,8,9, 0]],\n",
    "                       [[10,11,12, 0], [10,11,12, 0], [10,11,12, 0]]])"
   ]
  },
  {
   "cell_type": "code",
   "execution_count": 12,
   "id": "035e2ee2",
   "metadata": {},
   "outputs": [
    {
     "data": {
      "text/plain": [
       "(2, 3, 4)"
      ]
     },
     "execution_count": 12,
     "metadata": {},
     "output_type": "execute_result"
    }
   ],
   "source": [
    "fromlist3d.shape"
   ]
  },
  {
   "cell_type": "code",
   "execution_count": 13,
   "id": "67039c5c",
   "metadata": {},
   "outputs": [],
   "source": [
    "# rand_2d = np.random.random(size=(8,8))\n",
    "# np.save('random.npy', rand_2d)\n",
    "# np.savetxt('random.txt', rand_2d)\n",
    "# open('random.txt', 'r').readlines()\n",
    "\n",
    "np.save('my3dlist.npy', fromlist3d)"
   ]
  },
  {
   "cell_type": "code",
   "execution_count": 15,
   "id": "2b195d8b",
   "metadata": {},
   "outputs": [],
   "source": [
    "# np.savetxt('my3dlist.txt', fromlist3d)\n",
    "np.savetxt('my3dlist.txt', fromlist3d.reshape(2, 12), fmt='%d')\n"
   ]
  },
  {
   "cell_type": "markdown",
   "id": "fd4195a6",
   "metadata": {},
   "source": [
    "1 2 3 0 4 5 6 0 7 8 9 0\n",
    "10 11 12 0 10 11 12 0 10 11 12 0\n"
   ]
  },
  {
   "cell_type": "code",
   "execution_count": 16,
   "id": "feaac852",
   "metadata": {},
   "outputs": [
    {
     "data": {
      "text/plain": [
       "['1 2 3 0 4 5 6 0 7 8 9 0\\n', '10 11 12 0 10 11 12 0 10 11 12 0\\n']"
      ]
     },
     "execution_count": 16,
     "metadata": {},
     "output_type": "execute_result"
    }
   ],
   "source": [
    "open('my3dlist.txt', 'r').readlines()"
   ]
  },
  {
   "cell_type": "code",
   "execution_count": 26,
   "id": "216d09b7",
   "metadata": {},
   "outputs": [
    {
     "data": {
      "text/plain": [
       "array([0., 1., 2., 3., 4., 5., 6., 7., 8., 9.])"
      ]
     },
     "execution_count": 26,
     "metadata": {},
     "output_type": "execute_result"
    }
   ],
   "source": [
    "linear = np.linspace(0, 9, 10)\n",
    "linear"
   ]
  },
  {
   "cell_type": "code",
   "execution_count": 24,
   "id": "14ea4df4",
   "metadata": {},
   "outputs": [
    {
     "data": {
      "text/plain": [
       "(5,)"
      ]
     },
     "execution_count": 24,
     "metadata": {},
     "output_type": "execute_result"
    }
   ],
   "source": [
    "linear.shape"
   ]
  },
  {
   "cell_type": "code",
   "execution_count": 27,
   "id": "9171b716",
   "metadata": {},
   "outputs": [
    {
     "data": {
      "text/plain": [
       "array([[1., 1., 1., 1.],\n",
       "       [1., 1., 1., 1.],\n",
       "       [1., 1., 1., 1.]])"
      ]
     },
     "execution_count": 27,
     "metadata": {},
     "output_type": "execute_result"
    }
   ],
   "source": [
    "np.ones((3, 4))"
   ]
  }
 ],
 "metadata": {
  "kernelspec": {
   "display_name": ".venv",
   "language": "python",
   "name": "python3"
  },
  "language_info": {
   "codemirror_mode": {
    "name": "ipython",
    "version": 3
   },
   "file_extension": ".py",
   "mimetype": "text/x-python",
   "name": "python",
   "nbconvert_exporter": "python",
   "pygments_lexer": "ipython3",
   "version": "3.13.3"
  }
 },
 "nbformat": 4,
 "nbformat_minor": 5
}
